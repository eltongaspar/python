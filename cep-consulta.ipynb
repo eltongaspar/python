{
 "cells": [
  {
   "cell_type": "code",
   "execution_count": null,
   "metadata": {},
   "outputs": [],
   "source": [
    "#! /usr/bin/env python  \n",
    "# -*- coding: iso-8859-1 -*-  \n",
    "# Criado por: Felipe Olivaes  \n",
    "import urllib  \n",
    "import cgi  \n",
    "  \n",
    "#  \n",
    "#   Busca CEP  \n",
    "#  \n",
    "cep_busca   = '91370370';  \n",
    "url         = \"http://cep.republicavirtual.com.br/web_cep.php?cep=\" + cep_busca + \"&formato=query_string\"  \n",
    "pagina      = urllib.urlopen(url)  \n",
    "conteudo    = pagina.read();  \n",
    "resultado   = cgi.parse_qs(conteudo);  \n",
    "  \n",
    "if resultado['resultado'][0] == '1':  \n",
    "    print \"Endereço com cidade de CEP único: \"  \n",
    "    print resultado['tipo_logradouro'][0]  \n",
    "    print resultado['logradouro'][0]  \n",
    "    print resultado['bairro'][0]  \n",
    "    print resultado['cidade'][0]  \n",
    "    print resultado['uf'][0]  \n",
    "elif resultado['resultado'][0] == '2':  \n",
    "    print \"Endereço com cidade de CEP único: \"  \n",
    "    print resultado['cidade'][0]  \n",
    "    print resultado['uf'][0]  \n",
    "else:  \n",
    "    print \"CEP não encontrado\"  "
   ]
  }
 ],
 "metadata": {
  "kernelspec": {
   "display_name": "base",
   "language": "python",
   "name": "python3"
  },
  "language_info": {
   "name": "python",
   "version": "3.11.7"
  }
 },
 "nbformat": 4,
 "nbformat_minor": 2
}
