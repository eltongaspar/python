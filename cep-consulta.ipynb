{
 "cells": [
  {
   "cell_type": "code",
   "execution_count": 5,
   "metadata": {},
   "outputs": [
    {
     "ename": "SyntaxError",
     "evalue": "Missing parentheses in call to 'print'. Did you mean print(...)? (2305986662.py, line 17)",
     "output_type": "error",
     "traceback": [
      "\u001b[1;36m  Cell \u001b[1;32mIn[5], line 17\u001b[1;36m\u001b[0m\n\u001b[1;33m    print \"Endereço com cidade de CEP único: \"\u001b[0m\n\u001b[1;37m    ^\u001b[0m\n\u001b[1;31mSyntaxError\u001b[0m\u001b[1;31m:\u001b[0m Missing parentheses in call to 'print'. Did you mean print(...)?\n"
     ]
    }
   ],
   "source": [
    "#! /usr/bin/env python  \n",
    "# -*- coding: iso-8859-1 -*-  \n",
    "# Criado por: Felipe Olivaes  \n",
    "import urllib  \n",
    "import cgi  \n",
    "  \n",
    "#  \n",
    "#   Busca CEP  \n",
    "#  \n",
    "cep_busca   = '91370370';  \n",
    "url         = \"http://cep.republicavirtual.com.br/web_cep.php?cep=\" + cep_busca + \"&formato=query_string\"  \n",
    "pagina      = urllib.urlopen(url)  \n",
    "conteudo    = pagina.read();  \n",
    "resultado   = cgi.parse_qs(conteudo);  \n",
    "  \n",
    "if resultado['resultado'][0] == '1':  \n",
    "    print \"Endereço com cidade de CEP único: \"  \n",
    "    print resultado['tipo_logradouro'][0]  \n",
    "    print resultado['logradouro'][0]  \n",
    "    print resultado['bairro'][0]  \n",
    "    print resultado['cidade'][0]  \n",
    "    print resultado['uf'][0]  \n",
    "elif resultado['resultado'][0] == '2':  \n",
    "    print \"Endereço com cidade de CEP único: \"  \n",
    "    print resultado['cidade'][0]  \n",
    "    print resultado['uf'][0]  \n",
    "else:  \n",
    "    print \"CEP não encontrado\"  "
   ]
  },
  {
   "cell_type": "code",
   "execution_count": 1,
   "metadata": {},
   "outputs": [
    {
     "name": "stdout",
     "output_type": "stream",
     "text": [
      "CEP: 13232-324\n",
      "Logradouro: Rua Luiz Martucci\n",
      "Bairro: Conjunto Habitacional Vila da Conquista\n",
      "Cidade: Campo Limpo Paulista\n",
      "Estado: SP\n"
     ]
    }
   ],
   "source": [
    "import requests\n",
    "\n",
    "def consultar_cep(cep):\n",
    "    # Remove caracteres especiais do CEP\n",
    "    cep = cep.replace(\"-\", \"\").strip()\n",
    "\n",
    "    # Verifica se o CEP tem 8 dígitos\n",
    "    if len(cep) != 8 or not cep.isdigit():\n",
    "        return {\"erro\": \"CEP inválido\"}\n",
    "\n",
    "    # Faz a consulta na API ViaCEP\n",
    "    url = f\"https://viacep.com.br/ws/{cep}/json/\"\n",
    "    response = requests.get(url)\n",
    "\n",
    "    # Verifica se a requisição foi bem-sucedida\n",
    "    if response.status_code == 200:\n",
    "        return response.json()  # Retorna o resultado como dicionário\n",
    "    else:\n",
    "        return {\"erro\": \"Erro ao consultar o CEP\"}\n",
    "\n",
    "# Exemplo de uso\n",
    "cep_input = input(\"Digite o CEP para consulta: \")\n",
    "resultado = consultar_cep(cep_input)\n",
    "\n",
    "# Exibe o resultado da consulta\n",
    "if \"erro\" not in resultado:\n",
    "    print(f\"CEP: {resultado['cep']}\")\n",
    "    print(f\"Logradouro: {resultado['logradouro']}\")\n",
    "    print(f\"Bairro: {resultado['bairro']}\")\n",
    "    print(f\"Cidade: {resultado['localidade']}\")\n",
    "    print(f\"Estado: {resultado['uf']}\")\n",
    "else:\n",
    "    print(\"Erro:\", resultado[\"erro\"])\n"
   ]
  }
 ],
 "metadata": {
  "kernelspec": {
   "display_name": "base",
   "language": "python",
   "name": "python3"
  },
  "language_info": {
   "codemirror_mode": {
    "name": "ipython",
    "version": 3
   },
   "file_extension": ".py",
   "mimetype": "text/x-python",
   "name": "python",
   "nbconvert_exporter": "python",
   "pygments_lexer": "ipython3",
   "version": "3.11.7"
  }
 },
 "nbformat": 4,
 "nbformat_minor": 2
}
