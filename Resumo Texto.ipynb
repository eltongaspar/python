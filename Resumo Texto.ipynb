{
 "cells": [
  {
   "cell_type": "code",
   "execution_count": null,
   "metadata": {},
   "outputs": [],
   "source": [
    "from sumy.parsers.plaintext import PlaintextParser\n",
    "from sumy.nlp.tokenizers import Tokenizer\n",
    "from sumy.summarizers.lex_rank import LexRankSummarizer\n",
    "\n",
    "parser = PlaintextParser.from_file('C:/Users/User/Downloads/teste texto.txt', Tokenizer('portuguese'))\n",
    "summarizer = LexRankSummarizer()\n",
    "resumo = summarizer(parser.document, 10)  # Resumo com 10 sentenças\n",
    "\n",
    "for sentence in resumo:\n",
    "    print(sentence)\n"
   ]
  },
  {
   "cell_type": "code",
   "execution_count": null,
   "metadata": {},
   "outputs": [],
   "source": [
    "from transformers import pipeline\n",
    "\n",
    "summarizer = pipeline(\"summarization\", model=\"facebook/bart-large-cnn\")\n",
    "\n",
    "with open(r'C:\\Users\\User\\Downloads\\teste texto.txt', 'r', encoding='utf-8') as f:\n",
    "    texto = f.read()\n",
    "\n",
    "resumo = summarizer(texto, max_length=130, min_length=30, do_sample=False)\n",
    "print(resumo[0]['summary_text'])\n"
   ]
  },
  {
   "cell_type": "code",
   "execution_count": null,
   "metadata": {},
   "outputs": [],
   "source": [
    "from sumy.parsers.plaintext import PlaintextParser\n",
    "from sumy.nlp.tokenizers import Tokenizer\n",
    "from sumy.summarizers.lex_rank import LexRankSummarizer\n",
    "\n",
    "parser = PlaintextParser.from_file('C:/Users/User/Downloads/teste texto.txt', Tokenizer('portuguese'))\n",
    "summarizer = LexRankSummarizer()\n",
    "resumo = summarizer(parser.document, 10)  # Resumo com 10 sentenças\n",
    "\n",
    "for sentence in resumo:\n",
    "    print(sentence)\n"
   ]
  },
  {
   "cell_type": "code",
   "execution_count": null,
   "metadata": {},
   "outputs": [],
   "source": [
    "from transformers import pipeline\n",
    "\n",
    "# Não especificar o parâmetro 'model' usará o modelo padrão compatível com PyTorch\n",
    "summarizer = pipeline(\"summarization\")\n",
    "\n",
    "with open(r'C:\\Users\\User\\Downloads\\teste texto.txt', 'r', encoding='utf-8') as f:\n",
    "    texto = f.read()\n",
    "\n",
    "resumo = summarizer(texto, max_length=130, min_length=30, do_sample=False)\n",
    "print(resumo[0]['summary_text'])\n"
   ]
  }
 ],
 "metadata": {
  "kernelspec": {
   "display_name": "base",
   "language": "python",
   "name": "python3"
  },
  "language_info": {
   "codemirror_mode": {
    "name": "ipython",
    "version": 3
   },
   "file_extension": ".py",
   "mimetype": "text/x-python",
   "name": "python",
   "nbconvert_exporter": "python",
   "pygments_lexer": "ipython3",
   "version": "3.11.7"
  }
 },
 "nbformat": 4,
 "nbformat_minor": 2
}
