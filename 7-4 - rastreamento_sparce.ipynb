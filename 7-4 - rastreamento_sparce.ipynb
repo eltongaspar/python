{
 "cells": [
  {
   "cell_type": "code",
   "execution_count": 1,
   "metadata": {},
   "outputs": [
    {
     "ename": "error",
     "evalue": "OpenCV(4.9.0) D:\\a\\opencv-python\\opencv-python\\opencv\\modules\\highgui\\src\\window.cpp:971: error: (-215:Assertion failed) size.width>0 && size.height>0 in function 'cv::imshow'\n",
     "output_type": "error",
     "traceback": [
      "\u001b[1;31m---------------------------------------------------------------------------\u001b[0m",
      "\u001b[1;31merror\u001b[0m                                     Traceback (most recent call last)",
      "Cell \u001b[1;32mIn[1], line 42\u001b[0m\n\u001b[0;32m     38\u001b[0m ret, frame \u001b[38;5;241m=\u001b[39m cap\u001b[38;5;241m.\u001b[39mread() \n\u001b[0;32m     40\u001b[0m \u001b[38;5;66;03m# Opens a new window and displays the input \u001b[39;00m\n\u001b[0;32m     41\u001b[0m \u001b[38;5;66;03m# frame \u001b[39;00m\n\u001b[1;32m---> 42\u001b[0m cv\u001b[38;5;241m.\u001b[39mimshow(\u001b[38;5;124m\"\u001b[39m\u001b[38;5;124minput\u001b[39m\u001b[38;5;124m\"\u001b[39m, frame) \n\u001b[0;32m     44\u001b[0m \u001b[38;5;66;03m# Converts each frame to grayscale - we previously  \u001b[39;00m\n\u001b[0;32m     45\u001b[0m \u001b[38;5;66;03m# only converted the first frame to grayscale \u001b[39;00m\n\u001b[0;32m     46\u001b[0m gray \u001b[38;5;241m=\u001b[39m cv\u001b[38;5;241m.\u001b[39mcvtColor(frame, cv\u001b[38;5;241m.\u001b[39mCOLOR_BGR2GRAY) \n",
      "\u001b[1;31merror\u001b[0m: OpenCV(4.9.0) D:\\a\\opencv-python\\opencv-python\\opencv\\modules\\highgui\\src\\window.cpp:971: error: (-215:Assertion failed) size.width>0 && size.height>0 in function 'cv::imshow'\n"
     ]
    },
    {
     "ename": "",
     "evalue": "",
     "output_type": "error",
     "traceback": [
      "\u001b[1;31mO Kernel deu pane ao executar o código na célula atual ou em uma célula anterior. \n",
      "\u001b[1;31mAnalise o código nas células para identificar uma possível causa da pane. \n",
      "\u001b[1;31mClique <a href='https://aka.ms/vscodeJupyterKernelCrash'>aqui</a> para obter mais informações. \n",
      "\u001b[1;31mConsulte Jupyter <a href='command:jupyter.viewOutput'>log</a> para obter mais detalhes."
     ]
    }
   ],
   "source": [
    "#7-4 \n",
    "#Estudo de Caso \n",
    "#Rastreamento de objetos\n",
    "#Dense Optical Flow\n",
    "import cv2 as cv \n",
    "import numpy as np \n",
    "  \n",
    "  \n",
    "# The video feed is read in as \n",
    "# a VideoCapture object \n",
    "video_path = \"D:/Dados/Material_complementar_rastreamento_objetos/videos/walking.avi\"\n",
    "cap = cv.VideoCapture(video_path) \n",
    "  \n",
    "# ret = a boolean return value from \n",
    "# getting the frame, first_frame = the \n",
    "# first frame in the entire video sequence \n",
    "ret, first_frame = cap.read() \n",
    "  \n",
    "# Converts frame to grayscale because we \n",
    "# only need the luminance channel for \n",
    "# detecting edges - less computationally  \n",
    "# expensive \n",
    "prev_gray = cv.cvtColor(first_frame, cv.COLOR_BGR2GRAY) \n",
    "  \n",
    "# Creates an image filled with zero \n",
    "# intensities with the same dimensions  \n",
    "# as the frame \n",
    "mask = np.zeros_like(first_frame) \n",
    "  \n",
    "# Sets image saturation to maximum \n",
    "mask[..., 1] = 255\n",
    "  \n",
    "while(cap.isOpened()): \n",
    "      \n",
    "    # ret = a boolean return value from getting \n",
    "    # the frame, frame = the current frame being \n",
    "    # projected in the video \n",
    "    ret, frame = cap.read() \n",
    "      \n",
    "    # Opens a new window and displays the input \n",
    "    # frame \n",
    "    cv.imshow(\"input\", frame) \n",
    "      \n",
    "    # Converts each frame to grayscale - we previously  \n",
    "    # only converted the first frame to grayscale \n",
    "    gray = cv.cvtColor(frame, cv.COLOR_BGR2GRAY) \n",
    "      \n",
    "    # Calculates dense optical flow by Farneback method \n",
    "    flow = cv.calcOpticalFlowFarneback(prev_gray, gray,  \n",
    "                                       None, \n",
    "                                       0.5, 3, 15, 3, 5, 1.2, 0) \n",
    "      \n",
    "    # Computes the magnitude and angle of the 2D vectors \n",
    "    magnitude, angle = cv.cartToPolar(flow[..., 0], flow[..., 1]) \n",
    "      \n",
    "    # Sets image hue according to the optical flow  \n",
    "    # direction \n",
    "    mask[..., 0] = angle * 180 / np.pi / 2\n",
    "      \n",
    "    # Sets image value according to the optical flow \n",
    "    # magnitude (normalized) \n",
    "    mask[..., 2] = cv.normalize(magnitude, None, 0, 255, cv.NORM_MINMAX) \n",
    "      \n",
    "    # Converts HSV to RGB (BGR) color representation \n",
    "    rgb = cv.cvtColor(mask, cv.COLOR_HSV2BGR) \n",
    "      \n",
    "    # Opens a new window and displays the output frame \n",
    "    cv.imshow(\"dense optical flow\", rgb) \n",
    "      \n",
    "    # Updates previous frame \n",
    "    prev_gray = gray \n",
    "      \n",
    "    # Frames are read by intervals of 1 millisecond. The \n",
    "    # programs breaks out of the while loop when the \n",
    "    # user presses the 'q' key \n",
    "    if cv.waitKey(1) & 0xFF == ord('q'): \n",
    "        break\n",
    "  \n",
    "# The following frees up resources and \n",
    "# closes all windows \n",
    "cap.release() \n",
    "cv.destroyAllWindows() "
   ]
  }
 ],
 "metadata": {
  "kernelspec": {
   "display_name": "base",
   "language": "python",
   "name": "python3"
  },
  "language_info": {
   "codemirror_mode": {
    "name": "ipython",
    "version": 3
   },
   "file_extension": ".py",
   "mimetype": "text/x-python",
   "name": "python",
   "nbconvert_exporter": "python",
   "pygments_lexer": "ipython3",
   "version": "3.11.7"
  }
 },
 "nbformat": 4,
 "nbformat_minor": 2
}
