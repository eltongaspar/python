{
 "cells": [
  {
   "cell_type": "code",
   "execution_count": 2,
   "metadata": {},
   "outputs": [],
   "source": [
    "#importando a biblioteca \n",
    "import numpy as np"
   ]
  },
  {
   "cell_type": "code",
   "execution_count": 4,
   "metadata": {},
   "outputs": [],
   "source": [
    "#criando listas e arrays\n",
    "lista = [1,2,3,4,5,6,7]\n",
    "\n",
    "array = np.array(lista)"
   ]
  },
  {
   "cell_type": "code",
   "execution_count": 14,
   "metadata": {},
   "outputs": [
    {
     "name": "stdout",
     "output_type": "stream",
     "text": [
      "<class 'list'>\n",
      "<class 'numpy.ndarray'>\n"
     ]
    }
   ],
   "source": [
    "#exibe tipos de dados\n",
    "print(type(lista))\n",
    "print(type(array))"
   ]
  },
  {
   "cell_type": "code",
   "execution_count": 15,
   "metadata": {},
   "outputs": [
    {
     "name": "stdout",
     "output_type": "stream",
     "text": [
      "[0. 0. 0. 0. 0. 0. 0. 0. 0. 0.]\n"
     ]
    }
   ],
   "source": [
    "#criando array com zeros via lib\n",
    "array_zeros = np.zeros(10)\n",
    "print(array_zeros)\n"
   ]
  },
  {
   "cell_type": "code",
   "execution_count": 16,
   "metadata": {},
   "outputs": [
    {
     "name": "stdout",
     "output_type": "stream",
     "text": [
      "10\n"
     ]
    }
   ],
   "source": [
    "#atribuindo valores a lista - alterando\n",
    "array[0] = 10\n",
    "print(array[0])"
   ]
  },
  {
   "cell_type": "code",
   "execution_count": 17,
   "metadata": {},
   "outputs": [
    {
     "name": "stdout",
     "output_type": "stream",
     "text": [
      "[[0. 0. 0.]\n",
      " [0. 0. 0.]\n",
      " [0. 0. 0.]\n",
      " [0. 0. 0.]\n",
      " [0. 0. 0.]]\n"
     ]
    }
   ],
   "source": [
    "#criando matrizes \n",
    "matriz_zeros = np.zeros((5,3))\n",
    "print(matriz_zeros)"
   ]
  },
  {
   "cell_type": "code",
   "execution_count": 18,
   "metadata": {},
   "outputs": [],
   "source": [
    "#operaçoes matematicas \n",
    "lista_notas = [10,5,8,9,7,4,2,3]\n",
    "array_notas = np.array(lista_notas)"
   ]
  },
  {
   "cell_type": "code",
   "execution_count": 21,
   "metadata": {},
   "outputs": [
    {
     "name": "stdout",
     "output_type": "stream",
     "text": [
      "Maxima 10\n",
      "Minima 2\n",
      "Desvio Padrao 2.7386127875258306\n",
      "Media 6.0\n",
      "Posicao Minima 6\n",
      "Posicao Maxima 0\n"
     ]
    }
   ],
   "source": [
    "#resultado de nota maxima e minima\n",
    "print('Maxima',array_notas.max())\n",
    "print('Minima',array_notas.min())\n",
    "print('Desvio Padrao',array_notas.std())\n",
    "print('Media',array_notas.mean())\n",
    "print('Posicao Minima',array_notas.argmin())\n",
    "print('Posicao Maxima',array_notas.argmax())"
   ]
  },
  {
   "cell_type": "code",
   "execution_count": null,
   "metadata": {},
   "outputs": [],
   "source": [
    "# Informar 10 notas e atribuir em uma lista array\n",
    "\n",
    "# Funcao Gerar numero\n",
    "def num_aleat(num_min,num_max):\n",
    "    import random\n",
    "    num_ger = random.randrange(num_min,num_max)\n",
    "    return num_ger\n",
    "\n",
    "def exibcontagem(conttela):\n",
    "    cont = 0\n",
    "    while cont <= conttela:\n",
    "        print('Processando',cont)\n",
    "        cont += 1\n",
    "    \n",
    "num_min = 0 #nota minima\n",
    "num_max = 10 #nota maxima\n",
    "num_ger = 10 # qtde de notas\n",
    "\n",
    "for in num"
   ]
  },
  {
   "cell_type": "code",
   "execution_count": 22,
   "metadata": {},
   "outputs": [
    {
     "name": "stdout",
     "output_type": "stream",
     "text": [
      "Jogo Adivinha Numero\n",
      "Gerando Numero Aleatório de  1 100\n",
      "Processando 0\n",
      "Processando 1\n",
      "Processando 2\n",
      "Processando 3\n",
      "Processando 4\n",
      "Processando 5\n",
      "Processando 6\n",
      "Processando 7\n",
      "Processando 8\n",
      "Processando 9\n",
      "Processando 10\n",
      "40\n",
      "Numero sorteado de 1 100\n",
      "Voce errou, tente novamente\n",
      "Valor Baixo\n",
      "Numero sorteado de 1 100\n",
      "Voce errou, tente novamente\n",
      "Valor Baixo\n",
      "Numero sorteado de 1 100\n"
     ]
    },
    {
     "ename": "ValueError",
     "evalue": "invalid literal for int() with base 10: ''",
     "output_type": "error",
     "traceback": [
      "\u001b[1;31m---------------------------------------------------------------------------\u001b[0m",
      "\u001b[1;31mValueError\u001b[0m                                Traceback (most recent call last)",
      "Cell \u001b[1;32mIn[22], line 33\u001b[0m\n\u001b[0;32m     31\u001b[0m \u001b[38;5;28mprint\u001b[39m(\u001b[38;5;124m'\u001b[39m\u001b[38;5;124mNumero sorteado de\u001b[39m\u001b[38;5;124m'\u001b[39m,num_min,num_max)\n\u001b[0;32m     32\u001b[0m numinfor \u001b[38;5;241m=\u001b[39m \u001b[38;5;28minput\u001b[39m(\u001b[38;5;124m'\u001b[39m\u001b[38;5;124mInforme um numero de, sair para terminar  \u001b[39m\u001b[38;5;124m'\u001b[39m)\n\u001b[1;32m---> 33\u001b[0m numinfor \u001b[38;5;241m=\u001b[39m \u001b[38;5;28mint\u001b[39m(numinfor)\n\u001b[0;32m     35\u001b[0m \u001b[38;5;28;01mif\u001b[39;00m numinfor \u001b[38;5;241m!=\u001b[39m num_ger:\n\u001b[0;32m     36\u001b[0m     \u001b[38;5;28mprint\u001b[39m(\u001b[38;5;124m'\u001b[39m\u001b[38;5;124mVoce errou, tente novamente\u001b[39m\u001b[38;5;124m'\u001b[39m)\n",
      "\u001b[1;31mValueError\u001b[0m: invalid literal for int() with base 10: ''"
     ]
    }
   ],
   "source": [
    "# Funcao Gerar numero\n",
    "def num_aleat(num_min,num_max):\n",
    "    import random\n",
    "    num_ger = random.randrange(num_min,num_max)\n",
    "    return num_ger\n",
    "\n",
    "def exibcontagem(conttela):\n",
    "    cont = 0\n",
    "    while cont <= conttela:\n",
    "        print('Processando',cont)\n",
    "        cont += 1\n",
    "    \n",
    "\n",
    "\n",
    "#programa principal\n",
    "    \n",
    "num_min = 1\n",
    "num_max = 100\n",
    "num_ger = num_aleat(num_min,num_max)\n",
    "\n",
    "print('Jogo Adivinha Numero')\n",
    "print('Gerando Numero Aleatório de ',num_min,num_max )\n",
    "conttela = 10\n",
    "exibcontagem(conttela)\n",
    "\n",
    "numinfor = 0\n",
    "erro = 0\n",
    "print(num_ger)\n",
    "\n",
    "while numinfor != num_ger and numinfor != 'sair':\n",
    "    print('Numero sorteado de',num_min,num_max)\n",
    "    numinfor = input('Informe um numero de, sair para terminar  ')\n",
    "    numinfor = int(numinfor)\n",
    "\n",
    "    if numinfor != num_ger:\n",
    "        print('Voce errou, tente novamente')\n",
    "        erro += 1\n",
    "        if numinfor < num_ger:\n",
    "            print('Valor Baixo')\n",
    "        elif numinfor > num_ger:\n",
    "            print('Valor Alto')\n",
    "\n",
    "    elif numinfor == num_ger:\n",
    "        print('Parabens, voce acertou!')\n",
    "        print('Total Erros',erro)"
   ]
  }
 ],
 "metadata": {
  "kernelspec": {
   "display_name": "base",
   "language": "python",
   "name": "python3"
  },
  "language_info": {
   "codemirror_mode": {
    "name": "ipython",
    "version": 3
   },
   "file_extension": ".py",
   "mimetype": "text/x-python",
   "name": "python",
   "nbconvert_exporter": "python",
   "pygments_lexer": "ipython3",
   "version": "3.11.7"
  }
 },
 "nbformat": 4,
 "nbformat_minor": 2
}
