{
 "cells": [
  {
   "cell_type": "markdown",
   "metadata": {},
   "source": [
    "\n",
    "Reconhecimento de comandos de voz\n",
    "\n",
    "image-2.png\n",
    "\n",
    "Base de dados: Mini Speech Commands\n",
    "\n",
    "O conjunto de dados original consiste em mais de 105.000 arquivos de áudio no formato de arquivo de áudio WAV (Waveform) de pessoas dizendo 35 palavras diferentes. Mais detalhes sobre a base de dados podem ser vistos nestes link: speech_commands\n",
    "\n",
    "Para economizar tempo com o carregamento de dados, será usada uma versão menor do conjunto de dados de Comandos de Fala chamada mini_speech_commands que contém clipes de áudio curtos (um segundo ou menos) de 8 comandos: \"down\", \"go\", \"left\", \"no\", \"right\", \"stop\", \"up\" e \"yes\".\n",
    "\n",
    "A taxa de amostragem para este conjunto de dados é de 16kHz."
   ]
  },
  {
   "cell_type": "code",
   "execution_count": 39,
   "metadata": {},
   "outputs": [
    {
     "name": "stdout",
     "output_type": "stream",
     "text": [
      "Requirement already satisfied: librosa in d:\\anaconda\\lib\\site-packages (0.10.1)\n",
      "Requirement already satisfied: audioread>=2.1.9 in d:\\anaconda\\lib\\site-packages (from librosa) (3.0.1)\n",
      "Requirement already satisfied: numpy!=1.22.0,!=1.22.1,!=1.22.2,>=1.20.3 in d:\\anaconda\\lib\\site-packages (from librosa) (1.26.4)\n",
      "Requirement already satisfied: scipy>=1.2.0 in d:\\anaconda\\lib\\site-packages (from librosa) (1.11.4)\n",
      "Requirement already satisfied: scikit-learn>=0.20.0 in d:\\anaconda\\lib\\site-packages (from librosa) (1.2.2)\n",
      "Requirement already satisfied: joblib>=0.14 in d:\\anaconda\\lib\\site-packages (from librosa) (1.2.0)\n",
      "Requirement already satisfied: decorator>=4.3.0 in d:\\anaconda\\lib\\site-packages (from librosa) (5.1.1)\n",
      "Requirement already satisfied: numba>=0.51.0 in d:\\anaconda\\lib\\site-packages (from librosa) (0.59.0)\n",
      "Requirement already satisfied: soundfile>=0.12.1 in d:\\anaconda\\lib\\site-packages (from librosa) (0.12.1)\n",
      "Requirement already satisfied: pooch>=1.0 in d:\\anaconda\\lib\\site-packages (from librosa) (1.8.1)\n",
      "Requirement already satisfied: soxr>=0.3.2 in d:\\anaconda\\lib\\site-packages (from librosa) (0.3.7)\n",
      "Requirement already satisfied: typing-extensions>=4.1.1 in d:\\anaconda\\lib\\site-packages (from librosa) (4.9.0)\n",
      "Requirement already satisfied: lazy-loader>=0.1 in d:\\anaconda\\lib\\site-packages (from librosa) (0.3)\n",
      "Requirement already satisfied: msgpack>=1.0 in d:\\anaconda\\lib\\site-packages (from librosa) (1.0.3)\n",
      "Requirement already satisfied: llvmlite<0.43,>=0.42.0dev0 in d:\\anaconda\\lib\\site-packages (from numba>=0.51.0->librosa) (0.42.0)\n",
      "Requirement already satisfied: platformdirs>=2.5.0 in d:\\anaconda\\lib\\site-packages (from pooch>=1.0->librosa) (3.10.0)\n",
      "Requirement already satisfied: packaging>=20.0 in d:\\anaconda\\lib\\site-packages (from pooch>=1.0->librosa) (23.1)\n",
      "Requirement already satisfied: requests>=2.19.0 in d:\\anaconda\\lib\\site-packages (from pooch>=1.0->librosa) (2.31.0)\n",
      "Requirement already satisfied: threadpoolctl>=2.0.0 in d:\\anaconda\\lib\\site-packages (from scikit-learn>=0.20.0->librosa) (2.2.0)\n",
      "Requirement already satisfied: cffi>=1.0 in d:\\anaconda\\lib\\site-packages (from soundfile>=0.12.1->librosa) (1.16.0)\n",
      "Requirement already satisfied: pycparser in d:\\anaconda\\lib\\site-packages (from cffi>=1.0->soundfile>=0.12.1->librosa) (2.21)\n",
      "Requirement already satisfied: charset-normalizer<4,>=2 in d:\\anaconda\\lib\\site-packages (from requests>=2.19.0->pooch>=1.0->librosa) (2.0.4)\n",
      "Requirement already satisfied: idna<4,>=2.5 in d:\\anaconda\\lib\\site-packages (from requests>=2.19.0->pooch>=1.0->librosa) (3.4)\n",
      "Requirement already satisfied: urllib3<3,>=1.21.1 in d:\\anaconda\\lib\\site-packages (from requests>=2.19.0->pooch>=1.0->librosa) (2.0.7)\n",
      "Requirement already satisfied: certifi>=2017.4.17 in d:\\anaconda\\lib\\site-packages (from requests>=2.19.0->pooch>=1.0->librosa) (2024.2.2)\n",
      "Requirement already satisfied: numpy in d:\\anaconda\\lib\\site-packages (1.26.4)\n"
     ]
    }
   ],
   "source": [
    "#Importando as bibliotecas\n",
    "\n",
    "# Instala a versão específica 0.8.1 da biblioteca librosa.\n",
    "!pip install --upgrade librosa\n",
    "#==0.8.1\n",
    "!pip install --upgrade numpy\n",
    "\n",
    "# Verifica a versão do librosa\n",
    "#print(librosa.__version__)\n",
    "#librosa.__version__"
   ]
  },
  {
   "cell_type": "code",
   "execution_count": 40,
   "metadata": {},
   "outputs": [],
   "source": [
    "\n",
    "# Importação de bibliotecas e módulos necessários.\n",
    "import glob\n",
    "import os\n",
    "import pathlib\n",
    "import random\n",
    "from datetime import datetime\n",
    "import numpy as np\n",
    "import librosa\n",
    "import librosa.display as ld\n",
    "import pandas as pd\n",
    "import matplotlib.pyplot as plt\n",
    "from IPython.display import Audio\n",
    "import tensorflow as tf\n",
    "from tensorflow.keras import layers\n",
    "from tensorflow.keras import models\n",
    "import seaborn as sns\n",
    "sns.set()\n",
    "from tqdm import tqdm\n"
   ]
  },
  {
   "cell_type": "code",
   "execution_count": 41,
   "metadata": {},
   "outputs": [
    {
     "name": "stdout",
     "output_type": "stream",
     "text": [
      "O diretório existe.\n"
     ]
    }
   ],
   "source": [
    "import os\n",
    "\n",
    "dir_dataset = \"D:/Dados/material_complementar_reconhecimento_voz/mini_speech_commands/\"\n",
    "\n",
    "if os.path.exists(dir_dataset):\n",
    "    print(\"O diretório existe.\")\n",
    "else:\n",
    "    print(\"O diretório não existe.\")"
   ]
  },
  {
   "cell_type": "code",
   "execution_count": 42,
   "metadata": {},
   "outputs": [],
   "source": [
    "#Análise exploratória de dados (EDA)\n",
    "\n",
    "#Baixando e carregando o dataset Mini Speech Commands\n",
    "# Baixa e descompacta o dataset Mini Speech Commands.\n",
    "#!wget http://storage.googleapis.com/download.tensorflow.org/data/mini_speech_commands.zip -O mini_speech_commands.zip\n",
    "#!unzip mini_speech_commands.zip -d dir_files\n",
    "#!rm mini_speech_commands.zip\n",
    "\n",
    "\n",
    "##Comando para Vscode\n",
    "import os\n",
    "import urllib.request\n",
    "import zipfile\n",
    "\n",
    "# URL do arquivo zip\n",
    "url = \"http://storage.googleapis.com/download.tensorflow.org/data/mini_speech_commands.zip\"\n",
    "\n",
    "# Nome do arquivo zip\n",
    "zip_filename = \"mini_speech_commands.zip\"\n",
    "\n",
    "# Diretório de destino para extrair o arquivo zip\n",
    "extract_dir = \"D:/Dados/material_complementar_reconhecimento_voz/mini_speech_commands/\"\n",
    "\n",
    "# Baixar o arquivo zip\n",
    "urllib.request.urlretrieve(url, zip_filename)\n",
    "\n",
    "# Extrair o arquivo zip\n",
    "with zipfile.ZipFile(zip_filename, 'r') as zip_ref:\n",
    "    zip_ref.extractall(extract_dir)\n",
    "\n",
    "# Remover o arquivo zip após a extração\n",
    "os.remove(zip_filename)\n"
   ]
  },
  {
   "cell_type": "code",
   "execution_count": 59,
   "metadata": {},
   "outputs": [
    {
     "name": "stdout",
     "output_type": "stream",
     "text": [
      "Erro: Arquivo não encontrado em D:\\Dados\\Material_complementar_reconhecimento_voz\\mini_speech_commands\\mini_speech_commands\\README.md\n",
      "Diretório excluído com sucesso e todos os seus conteúdos!\n"
     ]
    }
   ],
   "source": [
    "#Excluir arquivos desnecessários\n",
    "caminho_arquivo = \"D:\\Dados\\Material_complementar_reconhecimento_voz\\mini_speech_commands\\mini_speech_commands\\README.md\"  # Substitua pelo caminho real do arquivo\n",
    "\n",
    "import os\n",
    "\n",
    "try:\n",
    "  os.remove(caminho_arquivo)\n",
    "  print(\"Arquivo excluído com sucesso!\")\n",
    "except FileNotFoundError:\n",
    "  print(f\"Erro: Arquivo não encontrado em {caminho_arquivo}\")\n",
    "except PermissionError:\n",
    "  print(f\"Erro: Sem permissão para excluir o arquivo em {caminho_arquivo}\")\n",
    "\n",
    "\n",
    "\n",
    "# Definindo o caminho do diretório (substitua com o caminho real)\n",
    "diretorio_a_excluir = \"D:\\\\Dados\\Material_complementar_reconhecimento_voz\\\\mini_speech_commands\\\\__MACOSX\"  # Substitua com o seu caminho\n",
    "\n",
    "import shutil\n",
    "\n",
    "try:\n",
    "  # Tente remover o diretório recursivamente\n",
    "  shutil.rmtree(diretorio_a_excluir)\n",
    "  print(\"Diretório excluído com sucesso e todos os seus conteúdos!\")\n",
    "except OSError as e:\n",
    "  # Trate possíveis erros (por exemplo, problemas de permissão)\n",
    "  print(f\"Erro ao excluir o diretório: {e}\")\n"
   ]
  },
  {
   "cell_type": "code",
   "execution_count": 43,
   "metadata": {},
   "outputs": [
    {
     "name": "stdout",
     "output_type": "stream",
     "text": [
      "down\n",
      "go\n",
      "left\n",
      "no\n",
      "README.md\n",
      "right\n",
      "stop\n",
      "up\n",
      "yes\n"
     ]
    }
   ],
   "source": [
    "# Cria uma lista dos comandos disponíveis no dataset.\n",
    "#Bibliotecas auxiliares\n",
    "import os\n",
    "import glob\n",
    "\n",
    "#Google Colab\n",
    "#commands = []\n",
    "#dir_comands = \"D:/Dados/Material_complementar_reconhecimento_voz/mini_speech_commands/mini_speech_commands/\"\n",
    "\n",
    "#for name in glob.glob(str(dir_comands) + '/*' + os.path.sep):\n",
    "#  print(name.split('/')[-2])\n",
    "#  commands.append(name.split('/')[-2])\n",
    "\n",
    "\n",
    "# VSCode Jupyter\n",
    "commands = []\n",
    "dir_commands = \"D:/Dados/Material_complementar_reconhecimento_voz/mini_speech_commands/mini_speech_commands/\"\n",
    "\n",
    "for name in glob.glob(os.path.join(dir_commands, '*')):\n",
    "    print(os.path.basename(name))\n",
    "    commands.append(os.path.basename(name))"
   ]
  },
  {
   "cell_type": "code",
   "execution_count": 44,
   "metadata": {},
   "outputs": [
    {
     "name": "stdout",
     "output_type": "stream",
     "text": [
      "{'down': 0, 'go': 1, 'left': 2, 'no': 3, 'README.md': 4, 'right': 5, 'stop': 6, 'up': 7, 'yes': 8}\n"
     ]
    }
   ],
   "source": [
    "# Cria um dicionário para mapear os comandos para índices numéricos.\n",
    "commands_dict = {i: commands.index(i) for i in commands}\n",
    "print(commands_dict)"
   ]
  },
  {
   "cell_type": "code",
   "execution_count": 45,
   "metadata": {},
   "outputs": [
    {
     "name": "stderr",
     "output_type": "stream",
     "text": [
      "100%|██████████| 8000/8000 [00:00<00:00, 3185345.74it/s]\n"
     ]
    }
   ],
   "source": [
    "# Cria uma lista com os caminhos de todos os arquivos de áudio.\n",
    "\n",
    "import os\n",
    "import glob\n",
    "from tqdm import tqdm\n",
    "\n",
    "speech_data_list = []\n",
    "dir_speech_data_list = \"D:/Dados/Material_complementar_reconhecimento_voz/mini_speech_commands/mini_speech_commands\"\n",
    "for name in tqdm(glob.glob(str(dir_speech_data_list) + '/*/*')):\n",
    "  speech_data_list.append(name)"
   ]
  },
  {
   "cell_type": "code",
   "execution_count": 46,
   "metadata": {},
   "outputs": [],
   "source": [
    "# Embaralha a lista de dados de fala.\n",
    "\n",
    "import os\n",
    "import glob\n",
    "import random\n",
    "from tqdm import tqdm\n",
    "\n",
    "random.seed(42)\n",
    "random.shuffle(speech_data_list)"
   ]
  },
  {
   "cell_type": "code",
   "execution_count": 47,
   "metadata": {},
   "outputs": [
    {
     "name": "stderr",
     "output_type": "stream",
     "text": [
      "100%|██████████| 8000/8000 [00:00<00:00, 88855.31it/s]\n"
     ]
    }
   ],
   "source": [
    "# Extrai os rótulos dos dados de fala.\n",
    "speech_data_labels = []\n",
    "for audio in tqdm(speech_data_list):\n",
    "  speech_data_labels.append(os.path.dirname(audio).split('/')[-1])"
   ]
  },
  {
   "cell_type": "code",
   "execution_count": 48,
   "metadata": {},
   "outputs": [
    {
     "name": "stderr",
     "output_type": "stream",
     "text": [
      "100%|██████████| 8000/8000 [00:00<00:00, 796166.38it/s]\n"
     ]
    }
   ],
   "source": [
    "# Converte os rótulos de texto para índices numéricos.\n",
    "#speech_label_int = []\n",
    "#for audio in tqdm(speech_data_labels):\n",
    "#  speech_label_int.append(commands_dict[audio])\n",
    "\n",
    "#Vscode Jupyter\n",
    "unique_labels = set(speech_data_labels)\n",
    "commands_dict = {label: index for index, label in enumerate(unique_labels)}\n",
    "\n",
    "\n",
    "speech_label_int = [commands_dict[label] for label in tqdm(speech_data_labels)]"
   ]
  },
  {
   "cell_type": "code",
   "execution_count": 49,
   "metadata": {},
   "outputs": [
    {
     "name": "stdout",
     "output_type": "stream",
     "text": [
      "Requirement already satisfied: librosa in d:\\anaconda\\lib\\site-packages (0.10.1)\n",
      "Requirement already satisfied: audioread>=2.1.9 in d:\\anaconda\\lib\\site-packages (from librosa) (3.0.1)\n",
      "Requirement already satisfied: numpy!=1.22.0,!=1.22.1,!=1.22.2,>=1.20.3 in d:\\anaconda\\lib\\site-packages (from librosa) (1.26.4)\n",
      "Requirement already satisfied: scipy>=1.2.0 in d:\\anaconda\\lib\\site-packages (from librosa) (1.11.4)\n",
      "Requirement already satisfied: scikit-learn>=0.20.0 in d:\\anaconda\\lib\\site-packages (from librosa) (1.2.2)\n",
      "Requirement already satisfied: joblib>=0.14 in d:\\anaconda\\lib\\site-packages (from librosa) (1.2.0)\n",
      "Requirement already satisfied: decorator>=4.3.0 in d:\\anaconda\\lib\\site-packages (from librosa) (5.1.1)\n",
      "Requirement already satisfied: numba>=0.51.0 in d:\\anaconda\\lib\\site-packages (from librosa) (0.59.0)\n",
      "Requirement already satisfied: soundfile>=0.12.1 in d:\\anaconda\\lib\\site-packages (from librosa) (0.12.1)\n",
      "Requirement already satisfied: pooch>=1.0 in d:\\anaconda\\lib\\site-packages (from librosa) (1.8.1)\n",
      "Requirement already satisfied: soxr>=0.3.2 in d:\\anaconda\\lib\\site-packages (from librosa) (0.3.7)\n",
      "Requirement already satisfied: typing-extensions>=4.1.1 in d:\\anaconda\\lib\\site-packages (from librosa) (4.9.0)\n",
      "Requirement already satisfied: lazy-loader>=0.1 in d:\\anaconda\\lib\\site-packages (from librosa) (0.3)\n",
      "Requirement already satisfied: msgpack>=1.0 in d:\\anaconda\\lib\\site-packages (from librosa) (1.0.3)\n",
      "Requirement already satisfied: llvmlite<0.43,>=0.42.0dev0 in d:\\anaconda\\lib\\site-packages (from numba>=0.51.0->librosa) (0.42.0)\n",
      "Requirement already satisfied: platformdirs>=2.5.0 in d:\\anaconda\\lib\\site-packages (from pooch>=1.0->librosa) (3.10.0)\n",
      "Requirement already satisfied: packaging>=20.0 in d:\\anaconda\\lib\\site-packages (from pooch>=1.0->librosa) (23.1)\n",
      "Requirement already satisfied: requests>=2.19.0 in d:\\anaconda\\lib\\site-packages (from pooch>=1.0->librosa) (2.31.0)\n",
      "Requirement already satisfied: threadpoolctl>=2.0.0 in d:\\anaconda\\lib\\site-packages (from scikit-learn>=0.20.0->librosa) (2.2.0)\n",
      "Requirement already satisfied: cffi>=1.0 in d:\\anaconda\\lib\\site-packages (from soundfile>=0.12.1->librosa) (1.16.0)\n",
      "Requirement already satisfied: pycparser in d:\\anaconda\\lib\\site-packages (from cffi>=1.0->soundfile>=0.12.1->librosa) (2.21)\n",
      "Requirement already satisfied: charset-normalizer<4,>=2 in d:\\anaconda\\lib\\site-packages (from requests>=2.19.0->pooch>=1.0->librosa) (2.0.4)\n",
      "Requirement already satisfied: idna<4,>=2.5 in d:\\anaconda\\lib\\site-packages (from requests>=2.19.0->pooch>=1.0->librosa) (3.4)\n",
      "Requirement already satisfied: urllib3<3,>=1.21.1 in d:\\anaconda\\lib\\site-packages (from requests>=2.19.0->pooch>=1.0->librosa) (2.0.7)\n",
      "Requirement already satisfied: certifi>=2017.4.17 in d:\\anaconda\\lib\\site-packages (from requests>=2.19.0->pooch>=1.0->librosa) (2024.2.2)\n"
     ]
    },
    {
     "name": "stderr",
     "output_type": "stream",
     "text": [
      "100%|██████████| 8000/8000 [00:55<00:00, 144.66it/s]\n"
     ]
    }
   ],
   "source": [
    "# Carrega os dados de áudio com a taxa de amostragem de 16000 Hz.\n",
    "!pip install librosa\n",
    "loaded_speech_data = []\n",
    "for audio in tqdm(speech_data_list):\n",
    "  loaded_speech_data.append(librosa.load(audio, sr = 16000))"
   ]
  },
  {
   "cell_type": "code",
   "execution_count": 50,
   "metadata": {},
   "outputs": [
    {
     "data": {
      "text/html": [
       "<div>\n",
       "<style scoped>\n",
       "    .dataframe tbody tr th:only-of-type {\n",
       "        vertical-align: middle;\n",
       "    }\n",
       "\n",
       "    .dataframe tbody tr th {\n",
       "        vertical-align: top;\n",
       "    }\n",
       "\n",
       "    .dataframe thead th {\n",
       "        text-align: right;\n",
       "    }\n",
       "</style>\n",
       "<table border=\"1\" class=\"dataframe\">\n",
       "  <thead>\n",
       "    <tr style=\"text-align: right;\">\n",
       "      <th></th>\n",
       "      <th>0</th>\n",
       "      <th>1</th>\n",
       "      <th>2</th>\n",
       "    </tr>\n",
       "  </thead>\n",
       "  <tbody>\n",
       "    <tr>\n",
       "      <th>0</th>\n",
       "      <td>mini_speech_commands\\right</td>\n",
       "      <td>([9.1552734e-05, 3.0517578e-05, 6.1035156e-05,...</td>\n",
       "      <td>D:/Dados/Material_complementar_reconhecimento_...</td>\n",
       "    </tr>\n",
       "    <tr>\n",
       "      <th>1</th>\n",
       "      <td>mini_speech_commands\\left</td>\n",
       "      <td>([0.0019226074, 0.0021362305, 0.002319336, 0.0...</td>\n",
       "      <td>D:/Dados/Material_complementar_reconhecimento_...</td>\n",
       "    </tr>\n",
       "    <tr>\n",
       "      <th>2</th>\n",
       "      <td>mini_speech_commands\\right</td>\n",
       "      <td>([0.0, 9.1552734e-05, 6.1035156e-05, 9.1552734...</td>\n",
       "      <td>D:/Dados/Material_complementar_reconhecimento_...</td>\n",
       "    </tr>\n",
       "    <tr>\n",
       "      <th>3</th>\n",
       "      <td>mini_speech_commands\\no</td>\n",
       "      <td>([-0.00039672852, -0.0005493164, -0.0006408691...</td>\n",
       "      <td>D:/Dados/Material_complementar_reconhecimento_...</td>\n",
       "    </tr>\n",
       "    <tr>\n",
       "      <th>4</th>\n",
       "      <td>mini_speech_commands\\down</td>\n",
       "      <td>([0.0, -3.0517578e-05, -0.00012207031, -6.1035...</td>\n",
       "      <td>D:/Dados/Material_complementar_reconhecimento_...</td>\n",
       "    </tr>\n",
       "    <tr>\n",
       "      <th>...</th>\n",
       "      <td>...</td>\n",
       "      <td>...</td>\n",
       "      <td>...</td>\n",
       "    </tr>\n",
       "    <tr>\n",
       "      <th>7995</th>\n",
       "      <td>mini_speech_commands\\left</td>\n",
       "      <td>([9.1552734e-05, 0.00012207031, 0.00012207031,...</td>\n",
       "      <td>D:/Dados/Material_complementar_reconhecimento_...</td>\n",
       "    </tr>\n",
       "    <tr>\n",
       "      <th>7996</th>\n",
       "      <td>mini_speech_commands\\up</td>\n",
       "      <td>([-0.00021362305, -0.0005493164, -0.0016174316...</td>\n",
       "      <td>D:/Dados/Material_complementar_reconhecimento_...</td>\n",
       "    </tr>\n",
       "    <tr>\n",
       "      <th>7997</th>\n",
       "      <td>mini_speech_commands\\down</td>\n",
       "      <td>([3.0517578e-05, -6.1035156e-05, 0.0, 3.051757...</td>\n",
       "      <td>D:/Dados/Material_complementar_reconhecimento_...</td>\n",
       "    </tr>\n",
       "    <tr>\n",
       "      <th>7998</th>\n",
       "      <td>mini_speech_commands\\down</td>\n",
       "      <td>([6.1035156e-05, 0.00012207031, 0.00015258789,...</td>\n",
       "      <td>D:/Dados/Material_complementar_reconhecimento_...</td>\n",
       "    </tr>\n",
       "    <tr>\n",
       "      <th>7999</th>\n",
       "      <td>mini_speech_commands\\stop</td>\n",
       "      <td>([-0.0012817383, -0.0015258789, -0.0015869141,...</td>\n",
       "      <td>D:/Dados/Material_complementar_reconhecimento_...</td>\n",
       "    </tr>\n",
       "  </tbody>\n",
       "</table>\n",
       "<p>8000 rows × 3 columns</p>\n",
       "</div>"
      ],
      "text/plain": [
       "                               0  \\\n",
       "0     mini_speech_commands\\right   \n",
       "1      mini_speech_commands\\left   \n",
       "2     mini_speech_commands\\right   \n",
       "3        mini_speech_commands\\no   \n",
       "4      mini_speech_commands\\down   \n",
       "...                          ...   \n",
       "7995   mini_speech_commands\\left   \n",
       "7996     mini_speech_commands\\up   \n",
       "7997   mini_speech_commands\\down   \n",
       "7998   mini_speech_commands\\down   \n",
       "7999   mini_speech_commands\\stop   \n",
       "\n",
       "                                                      1  \\\n",
       "0     ([9.1552734e-05, 3.0517578e-05, 6.1035156e-05,...   \n",
       "1     ([0.0019226074, 0.0021362305, 0.002319336, 0.0...   \n",
       "2     ([0.0, 9.1552734e-05, 6.1035156e-05, 9.1552734...   \n",
       "3     ([-0.00039672852, -0.0005493164, -0.0006408691...   \n",
       "4     ([0.0, -3.0517578e-05, -0.00012207031, -6.1035...   \n",
       "...                                                 ...   \n",
       "7995  ([9.1552734e-05, 0.00012207031, 0.00012207031,...   \n",
       "7996  ([-0.00021362305, -0.0005493164, -0.0016174316...   \n",
       "7997  ([3.0517578e-05, -6.1035156e-05, 0.0, 3.051757...   \n",
       "7998  ([6.1035156e-05, 0.00012207031, 0.00015258789,...   \n",
       "7999  ([-0.0012817383, -0.0015258789, -0.0015869141,...   \n",
       "\n",
       "                                                      2  \n",
       "0     D:/Dados/Material_complementar_reconhecimento_...  \n",
       "1     D:/Dados/Material_complementar_reconhecimento_...  \n",
       "2     D:/Dados/Material_complementar_reconhecimento_...  \n",
       "3     D:/Dados/Material_complementar_reconhecimento_...  \n",
       "4     D:/Dados/Material_complementar_reconhecimento_...  \n",
       "...                                                 ...  \n",
       "7995  D:/Dados/Material_complementar_reconhecimento_...  \n",
       "7996  D:/Dados/Material_complementar_reconhecimento_...  \n",
       "7997  D:/Dados/Material_complementar_reconhecimento_...  \n",
       "7998  D:/Dados/Material_complementar_reconhecimento_...  \n",
       "7999  D:/Dados/Material_complementar_reconhecimento_...  \n",
       "\n",
       "[8000 rows x 3 columns]"
      ]
     },
     "execution_count": 50,
     "metadata": {},
     "output_type": "execute_result"
    }
   ],
   "source": [
    "# Cria um DataFrame com rótulos, dados de áudio carregados e caminhos.\n",
    "df = pd.DataFrame([speech_data_labels, loaded_speech_data, speech_data_list]).T\n",
    "df"
   ]
  },
  {
   "cell_type": "code",
   "execution_count": 51,
   "metadata": {},
   "outputs": [
    {
     "data": {
      "text/html": [
       "<div>\n",
       "<style scoped>\n",
       "    .dataframe tbody tr th:only-of-type {\n",
       "        vertical-align: middle;\n",
       "    }\n",
       "\n",
       "    .dataframe tbody tr th {\n",
       "        vertical-align: top;\n",
       "    }\n",
       "\n",
       "    .dataframe thead th {\n",
       "        text-align: right;\n",
       "    }\n",
       "</style>\n",
       "<table border=\"1\" class=\"dataframe\">\n",
       "  <thead>\n",
       "    <tr style=\"text-align: right;\">\n",
       "      <th></th>\n",
       "      <th>command</th>\n",
       "      <th>waves</th>\n",
       "      <th>path</th>\n",
       "    </tr>\n",
       "  </thead>\n",
       "  <tbody>\n",
       "    <tr>\n",
       "      <th>0</th>\n",
       "      <td>mini_speech_commands\\right</td>\n",
       "      <td>([9.1552734e-05, 3.0517578e-05, 6.1035156e-05,...</td>\n",
       "      <td>D:/Dados/Material_complementar_reconhecimento_...</td>\n",
       "    </tr>\n",
       "    <tr>\n",
       "      <th>1</th>\n",
       "      <td>mini_speech_commands\\left</td>\n",
       "      <td>([0.0019226074, 0.0021362305, 0.002319336, 0.0...</td>\n",
       "      <td>D:/Dados/Material_complementar_reconhecimento_...</td>\n",
       "    </tr>\n",
       "    <tr>\n",
       "      <th>2</th>\n",
       "      <td>mini_speech_commands\\right</td>\n",
       "      <td>([0.0, 9.1552734e-05, 6.1035156e-05, 9.1552734...</td>\n",
       "      <td>D:/Dados/Material_complementar_reconhecimento_...</td>\n",
       "    </tr>\n",
       "    <tr>\n",
       "      <th>3</th>\n",
       "      <td>mini_speech_commands\\no</td>\n",
       "      <td>([-0.00039672852, -0.0005493164, -0.0006408691...</td>\n",
       "      <td>D:/Dados/Material_complementar_reconhecimento_...</td>\n",
       "    </tr>\n",
       "    <tr>\n",
       "      <th>4</th>\n",
       "      <td>mini_speech_commands\\down</td>\n",
       "      <td>([0.0, -3.0517578e-05, -0.00012207031, -6.1035...</td>\n",
       "      <td>D:/Dados/Material_complementar_reconhecimento_...</td>\n",
       "    </tr>\n",
       "    <tr>\n",
       "      <th>...</th>\n",
       "      <td>...</td>\n",
       "      <td>...</td>\n",
       "      <td>...</td>\n",
       "    </tr>\n",
       "    <tr>\n",
       "      <th>7995</th>\n",
       "      <td>mini_speech_commands\\left</td>\n",
       "      <td>([9.1552734e-05, 0.00012207031, 0.00012207031,...</td>\n",
       "      <td>D:/Dados/Material_complementar_reconhecimento_...</td>\n",
       "    </tr>\n",
       "    <tr>\n",
       "      <th>7996</th>\n",
       "      <td>mini_speech_commands\\up</td>\n",
       "      <td>([-0.00021362305, -0.0005493164, -0.0016174316...</td>\n",
       "      <td>D:/Dados/Material_complementar_reconhecimento_...</td>\n",
       "    </tr>\n",
       "    <tr>\n",
       "      <th>7997</th>\n",
       "      <td>mini_speech_commands\\down</td>\n",
       "      <td>([3.0517578e-05, -6.1035156e-05, 0.0, 3.051757...</td>\n",
       "      <td>D:/Dados/Material_complementar_reconhecimento_...</td>\n",
       "    </tr>\n",
       "    <tr>\n",
       "      <th>7998</th>\n",
       "      <td>mini_speech_commands\\down</td>\n",
       "      <td>([6.1035156e-05, 0.00012207031, 0.00015258789,...</td>\n",
       "      <td>D:/Dados/Material_complementar_reconhecimento_...</td>\n",
       "    </tr>\n",
       "    <tr>\n",
       "      <th>7999</th>\n",
       "      <td>mini_speech_commands\\stop</td>\n",
       "      <td>([-0.0012817383, -0.0015258789, -0.0015869141,...</td>\n",
       "      <td>D:/Dados/Material_complementar_reconhecimento_...</td>\n",
       "    </tr>\n",
       "  </tbody>\n",
       "</table>\n",
       "<p>8000 rows × 3 columns</p>\n",
       "</div>"
      ],
      "text/plain": [
       "                         command  \\\n",
       "0     mini_speech_commands\\right   \n",
       "1      mini_speech_commands\\left   \n",
       "2     mini_speech_commands\\right   \n",
       "3        mini_speech_commands\\no   \n",
       "4      mini_speech_commands\\down   \n",
       "...                          ...   \n",
       "7995   mini_speech_commands\\left   \n",
       "7996     mini_speech_commands\\up   \n",
       "7997   mini_speech_commands\\down   \n",
       "7998   mini_speech_commands\\down   \n",
       "7999   mini_speech_commands\\stop   \n",
       "\n",
       "                                                  waves  \\\n",
       "0     ([9.1552734e-05, 3.0517578e-05, 6.1035156e-05,...   \n",
       "1     ([0.0019226074, 0.0021362305, 0.002319336, 0.0...   \n",
       "2     ([0.0, 9.1552734e-05, 6.1035156e-05, 9.1552734...   \n",
       "3     ([-0.00039672852, -0.0005493164, -0.0006408691...   \n",
       "4     ([0.0, -3.0517578e-05, -0.00012207031, -6.1035...   \n",
       "...                                                 ...   \n",
       "7995  ([9.1552734e-05, 0.00012207031, 0.00012207031,...   \n",
       "7996  ([-0.00021362305, -0.0005493164, -0.0016174316...   \n",
       "7997  ([3.0517578e-05, -6.1035156e-05, 0.0, 3.051757...   \n",
       "7998  ([6.1035156e-05, 0.00012207031, 0.00015258789,...   \n",
       "7999  ([-0.0012817383, -0.0015258789, -0.0015869141,...   \n",
       "\n",
       "                                                   path  \n",
       "0     D:/Dados/Material_complementar_reconhecimento_...  \n",
       "1     D:/Dados/Material_complementar_reconhecimento_...  \n",
       "2     D:/Dados/Material_complementar_reconhecimento_...  \n",
       "3     D:/Dados/Material_complementar_reconhecimento_...  \n",
       "4     D:/Dados/Material_complementar_reconhecimento_...  \n",
       "...                                                 ...  \n",
       "7995  D:/Dados/Material_complementar_reconhecimento_...  \n",
       "7996  D:/Dados/Material_complementar_reconhecimento_...  \n",
       "7997  D:/Dados/Material_complementar_reconhecimento_...  \n",
       "7998  D:/Dados/Material_complementar_reconhecimento_...  \n",
       "7999  D:/Dados/Material_complementar_reconhecimento_...  \n",
       "\n",
       "[8000 rows x 3 columns]"
      ]
     },
     "execution_count": 51,
     "metadata": {},
     "output_type": "execute_result"
    }
   ],
   "source": [
    "df.columns = ['command', 'waves', 'path']\n",
    "df"
   ]
  },
  {
   "cell_type": "code",
   "execution_count": 52,
   "metadata": {},
   "outputs": [
    {
     "data": {
      "text/plain": [
       "command\n",
       "mini_speech_commands\\right    1000\n",
       "mini_speech_commands\\left     1000\n",
       "mini_speech_commands\\no       1000\n",
       "mini_speech_commands\\down     1000\n",
       "mini_speech_commands\\yes      1000\n",
       "mini_speech_commands\\go       1000\n",
       "mini_speech_commands\\up       1000\n",
       "mini_speech_commands\\stop     1000\n",
       "Name: count, dtype: int64"
      ]
     },
     "execution_count": 52,
     "metadata": {},
     "output_type": "execute_result"
    }
   ],
   "source": [
    "# Quantidade de comandos\n",
    "df['command'].value_counts()"
   ]
  },
  {
   "cell_type": "code",
   "execution_count": 53,
   "metadata": {},
   "outputs": [
    {
     "data": {
      "image/png": "[encoded data removed]",
      "text/plain": [
       "<Figure size 640x480 with 1 Axes>"
      ]
     },
     "metadata": {},
     "output_type": "display_data"
    }
   ],
   "source": [
    "# Visualiza a distribuição de comandos no dataset.\n",
    "import matplotlib.pyplot as plt\n",
    "command_counts = df['command'].value_counts()\n",
    "\n",
    "plt.bar(command_counts.index, command_counts.values)\n",
    "plt.xlabel('Comando')\n",
    "plt.ylabel('Contagem')\n",
    "plt.title('Contagem por Comando')\n",
    "plt.show()"
   ]
  },
  {
   "cell_type": "code",
   "execution_count": 54,
   "metadata": {},
   "outputs": [
    {
     "name": "stdout",
     "output_type": "stream",
     "text": [
      "O diretório existe.\n"
     ]
    }
   ],
   "source": [
    "import os\n",
    "\n",
    "dir_waves = 'D:/Dados/Material_complementar_reconhecimento_voz/mini_speech_commands/mini_speech_commands/'\n",
    "\n",
    "if os.path.exists(dir_waves):\n",
    "    print(\"O diretório existe.\")\n",
    "else:\n",
    "    print(\"O diretório não existe.\")"
   ]
  },
  {
   "cell_type": "code",
   "execution_count": 56,
   "metadata": {},
   "outputs": [
    {
     "ename": "NotADirectoryError",
     "evalue": "[WinError 267] O nome do diretório é inválido: 'D:/Dados/Material_complementar_reconhecimento_voz/mini_speech_commands/mini_speech_commands/README.md'",
     "output_type": "error",
     "traceback": [
      "\u001b[1;31m---------------------------------------------------------------------------\u001b[0m",
      "\u001b[1;31mNotADirectoryError\u001b[0m                        Traceback (most recent call last)",
      "Cell \u001b[1;32mIn[56], line 6\u001b[0m\n\u001b[0;32m      3\u001b[0m dir_waves \u001b[38;5;241m=\u001b[39m \u001b[38;5;124m'\u001b[39m\u001b[38;5;124mD:/Dados/Material_complementar_reconhecimento_voz/mini_speech_commands/mini_speech_commands/\u001b[39m\u001b[38;5;124m'\u001b[39m\n\u001b[0;32m      5\u001b[0m \u001b[38;5;28;01mfor\u001b[39;00m label \u001b[38;5;129;01min\u001b[39;00m commands:\n\u001b[1;32m----> 6\u001b[0m     waves \u001b[38;5;241m=\u001b[39m [f \u001b[38;5;28;01mfor\u001b[39;00m f \u001b[38;5;129;01min\u001b[39;00m os\u001b[38;5;241m.\u001b[39mlistdir( dir_waves \u001b[38;5;241m+\u001b[39m label) \u001b[38;5;28;01mif\u001b[39;00m f\u001b[38;5;241m.\u001b[39mendswith(\u001b[38;5;124m'\u001b[39m\u001b[38;5;124m.wav\u001b[39m\u001b[38;5;124m'\u001b[39m)]\n\u001b[0;32m      7\u001b[0m     \u001b[38;5;28;01mfor\u001b[39;00m wav \u001b[38;5;129;01min\u001b[39;00m waves:\n\u001b[0;32m      8\u001b[0m         data, sample_rate \u001b[38;5;241m=\u001b[39m librosa\u001b[38;5;241m.\u001b[39mload(dir_waves \u001b[38;5;241m+\u001b[39m label \u001b[38;5;241m+\u001b[39m \u001b[38;5;124m'\u001b[39m\u001b[38;5;124m/\u001b[39m\u001b[38;5;124m'\u001b[39m \u001b[38;5;241m+\u001b[39m wav, sr \u001b[38;5;241m=\u001b[39m \u001b[38;5;241m16000\u001b[39m)\n",
      "\u001b[1;31mNotADirectoryError\u001b[0m: [WinError 267] O nome do diretório é inválido: 'D:/Dados/Material_complementar_reconhecimento_voz/mini_speech_commands/mini_speech_commands/README.md'"
     ]
    }
   ],
   "source": [
    "# Calcula e visualiza a distribuição da duração das gravações.\n",
    "duration_of_recordings = []\n",
    "dir_waves = 'D:/Dados/Material_complementar_reconhecimento_voz/mini_speech_commands/mini_speech_commands/'\n",
    "\n",
    "for label in commands:\n",
    "    waves = [f for f in os.listdir( dir_waves + label) if f.endswith('.wav')]\n",
    "    for wav in waves:\n",
    "        data, sample_rate = librosa.load(dir_waves + label + '/' + wav, sr = 16000)\n",
    "        duration_of_recordings.append(float(len(data) / sample_rate))"
   ]
  },
  {
   "cell_type": "code",
   "execution_count": null,
   "metadata": {},
   "outputs": [],
   "source": [
    "## Testes\n",
    "\n",
    "# Calcula e visualiza a distribuição da duração das gravações.\n",
    "#VScode\n",
    "#import os\n",
    "\n",
    "#duration_of_recordings = []\n",
    "#commands = []\n",
    "#dir_waves = \"D:\\Dados\\Material_complementar_reconhecimento_voz\\mini_speech_commands\\mini_speech_commands\"\n",
    "\n",
    "#for label in commands:\n",
    "    # Verifique se label é um diretório (use os.path.isdir)\n",
    "    #if os.path.isdir(os.path.join(dir_waves, label)):  # Combine caminhos\n",
    "        #waves = [f for f in os.listdir(os.path.join(dir_waves, label)) if f.endswith('.wav')]\n",
    "        #for wav in waves:\n",
    "            #data, sample_rate = librosa.load(os.path.join(dir_waves, label, wav), sr=16000)\n",
    "            # Processe os dados de áudio...\n",
    "            #duration_of_recordings.append(float(len(data) / sample_rate))\n",
    "    #else:\n",
    "        # Lide com o caso em que label não é um diretório (por exemplo, imprima uma mensagem)\n",
    "        #print(f\"Pulando a categoria '{label}' pois não é um diretório.\")\n"
   ]
  },
  {
   "cell_type": "code",
   "execution_count": null,
   "metadata": {},
   "outputs": [],
   "source": [
    "# Duração das gravações\n",
    "sns.displot(duration_of_recordings);"
   ]
  },
  {
   "cell_type": "code",
   "execution_count": null,
   "metadata": {},
   "outputs": [],
   "source": [
    "#Visalizando os dados de áudio\n",
    "#Waveforms\n",
    "\n",
    "# Determina o número total de arquivos no DataFrame 'df'.\n",
    "n_files = df.shape[0]\n",
    "rnd = np.random.randint(0, n_files)\n",
    "fname = df.path[rnd]\n",
    "data, sample_rate = librosa.load(fname, sr=16000)\n",
    "\n",
    "print('Canais: ',  len(data.shape))\n",
    "print('Número total de amostras:', data.shape[0])\n",
    "print('Arquivo:', fname)\n",
    "print('Taxa de amostragem:', sample_rate)\n",
    "print('Duração: ', len(data) / sample_rate)\n",
    "\n",
    "# Extrai informações adicionais do DataFrame relacionadas ao arquivo de áudio e exibe a forma de onda (waveform) do áudio.\n",
    "info = df.iloc[rnd].values\n",
    "title_txt = f'Comando: {info[0]}'\n",
    "plt.title(title_txt.upper(), size=16)\n",
    "librosa.display.waveshow(data, sr=sample_rate,color='blue')\n",
    "Audio(data = data, rate = sample_rate)"
   ]
  },
  {
   "cell_type": "code",
   "execution_count": null,
   "metadata": {},
   "outputs": [],
   "source": [
    "# Seleciona um exemplo aleatório de cada comando (categoria) do DataFrame 'df'.\n",
    "random_samples = df.groupby('command').sample(1)\n",
    "audio_samples, labels = random_samples['path'].tolist(), random_samples['command'].tolist()\n",
    "\n",
    "# Configura o layout para exibir as formas de onda (waveforms) dos arquivos de áudio selecionados.\n",
    "rows=4\n",
    "cols=2\n",
    "fig, axs = plt.subplots(rows, cols, figsize=(15,15))\n",
    "index = 0\n",
    "# Itera por cada célula do layout, carrega o arquivo de áudio, exibe sua forma de onda e define o título da célula como o rótulo do comando correspondente.\n",
    "for col in range(cols):\n",
    "    for row in range(rows):\n",
    "        data, sample_rate = librosa.load(audio_samples[index], sr = None)\n",
    "        librosa.display.waveshow(data, sr=sample_rate, ax=axs[row][col],color='blue')\n",
    "        axs[row][col].set_title('{}'.format(labels[index]))\n",
    "        index += 1\n",
    "\n",
    "# Ajusta o layout para garantir que tudo seja exibido de forma adequada.\n",
    "fig.tight_layout()"
   ]
  },
  {
   "cell_type": "code",
   "execution_count": null,
   "metadata": {},
   "outputs": [],
   "source": [
    "#Espectrogramas de STFT (transformada de Fourier)\n",
    "# Cria uma nova figura e um array de subplots com 4 linhas e 2 colunas, com tamanho total de 20x20 polegadas.\n",
    "fig, axs = plt.subplots(rows, cols, figsize=(20,20))\n",
    "index = 0\n",
    "# Itera por cada célula do layout para processar e exibir os espectrogramas de STFT (Short-Time Fourier Transform) dos arquivos de áudio selecionados.\n",
    "for col in range(cols):\n",
    "    for row in range(rows):\n",
    "        data, sample_rate = librosa.load(audio_samples[index], sr = None)\n",
    "        stft = librosa.stft(y = data)\n",
    "        stft_db = librosa.amplitude_to_db(np.abs(stft))\n",
    "        img = librosa.display.specshow(stft_db, x_axis=\"time\", y_axis='log', ax=axs[row][col], cmap = 'Spectral')\n",
    "        axs[row][col].set_title('{}'.format(labels[index]))\n",
    "        fig.colorbar(img, ax=axs[row][col], format='%+2.f dB')\n",
    "        index += 1\n",
    "fig.tight_layout()"
   ]
  },
  {
   "cell_type": "code",
   "execution_count": null,
   "metadata": {},
   "outputs": [],
   "source": [
    "#Espectrogramas de MFCCs\n",
    "\n",
    "# Cria uma nova figura e um array de subplots com 4 linhas e 2 colunas, com tamanho total de 20x20 polegadas.\n",
    "fig, axs = plt.subplots(rows, cols, figsize=(20,20))\n",
    "index = 0\n",
    "# Itera por cada célula do layout para processar e exibir os espectrogramas de MFCC (Mel-Frequency Cepstral Coefficients) dos arquivos de áudio selecionados.\n",
    "for col in range(cols):\n",
    "    for row in range(rows):\n",
    "        data, sample_rate = librosa.load(audio_samples[index], sr = None)\n",
    "        mfccs = librosa.feature.mfcc(y = data, sr=sample_rate, n_mfcc=40)\n",
    "        mfccs_db = librosa.amplitude_to_db(np.abs(mfccs))\n",
    "        img = librosa.display.specshow(mfccs_db, x_axis=\"time\", y_axis='log', ax=axs[row][col], cmap = 'Spectral')\n",
    "        axs[row][col].set_title('{}'.format(labels[index]))\n",
    "        fig.colorbar(img, ax=axs[row][col], format='%+2.f dB')\n",
    "        index += 1\n",
    "\n",
    "fig.tight_layout()"
   ]
  },
  {
   "cell_type": "code",
   "execution_count": null,
   "metadata": {},
   "outputs": [],
   "source": [
    "#Espectrogramas de MFCCs\n",
    "\n",
    "# Cria uma nova figura e um array de subplots com 4 linhas e 2 colunas, com tamanho total de 20x20 polegadas.\n",
    "fig, axs = plt.subplots(rows, cols, figsize=(20,20))\n",
    "index = 0\n",
    "# Itera por cada célula do layout para processar e exibir os espectrogramas de MFCC (Mel-Frequency Cepstral Coefficients) dos arquivos de áudio selecionados.\n",
    "for col in range(cols):\n",
    "    for row in range(rows):\n",
    "        data, sample_rate = librosa.load(audio_samples[index], sr = None)\n",
    "        mfccs = librosa.feature.mfcc(y = data, sr=sample_rate, n_mfcc=40)\n",
    "        mfccs_db = librosa.amplitude_to_db(np.abs(mfccs))\n",
    "        img = librosa.display.specshow(mfccs_db, x_axis=\"time\", y_axis='log', ax=axs[row][col], cmap = 'Spectral')\n",
    "        axs[row][col].set_title('{}'.format(labels[index]))\n",
    "        fig.colorbar(img, ax=axs[row][col], format='%+2.f dB')\n",
    "        index += 1\n",
    "\n",
    "fig.tight_layout()"
   ]
  },
  {
   "cell_type": "code",
   "execution_count": null,
   "metadata": {},
   "outputs": [],
   "source": [
    "# Inicialize uma lista vazia para armazenar os coeficientes MFCC.\n",
    "speech_data_mfcc = []\n",
    "\n",
    "# Itere sobre a lista Load_speech_data.\n",
    "for audio, sample_rate in loaded_speech_data:\n",
    "    # Extraia MFCCs da amostra de áudio atual.\n",
    "    mfccs = librosa.feature.mfcc(y=audio, sr=sample_rate)\n",
    "    # Anexe os MFCCs extraídos à lista.\n",
    "    speech_data_mfcc.append(mfccs)"
   ]
  },
  {
   "cell_type": "code",
   "execution_count": null,
   "metadata": {},
   "outputs": [],
   "source": [
    "#Definindo a proporção da base de dados em treinamento, validação e teste\n",
    "\n",
    "#70% (0.7) para treinar;\n",
    "#Para a validação usamos 15% (0.15);\n",
    "#E para teste o restante da base de dados 15% (0.15).\n",
    "\n",
    "speech_data_as_tensor = []\n",
    "# Itera sobre o índice de cada conjunto de coeficientes MFCC em 'speech_data_mfcc'.\n",
    "for index in range(len(speech_data_mfcc)):\n",
    "  mfcc_array = np.copy(speech_data_mfcc[index])\n",
    "  mfcc_array.resize((20,32), refcheck = False)\n",
    "  speech_data_as_tensor.append(tf.expand_dims(tf.convert_to_tensor(mfcc_array), -1))"
   ]
  },
  {
   "cell_type": "code",
   "execution_count": null,
   "metadata": {},
   "outputs": [],
   "source": [
    "# Divide os dados de áudio (tensores) em três conjuntos: treinamento, validação e teste.\n",
    "# A divisão é feita com base em índices específicos para garantir proporções apropriadas para cada conjunto.\n",
    "# O conjunto de treinamento consiste nos primeiros 5600 elementos da lista 'speech_data_as_tensor'.\n",
    "# Isso significa que os dados de 0 até 5599 (inclusive) são utilizados para treinamento.\n",
    "training_slice = speech_data_as_tensor[:5600]\n",
    "validation_slice = speech_data_as_tensor[5600:5600 + 1200]\n",
    "testing_slice = speech_data_as_tensor[5600 + 1200:]"
   ]
  },
  {
   "cell_type": "code",
   "execution_count": null,
   "metadata": {},
   "outputs": [],
   "source": [
    "# Cria conjuntos de dados de treinamento, validação e teste usando o TensorFlow.\n",
    "# 'tf.data.Dataset.from_tensor_slices' é uma função que cria um objeto Dataset do TensorFlow.\n",
    "# Cada objeto Dataset é composto por pares de elementos, onde cada par contém um tensor de áudio e um rótulo correspondente.\n",
    "# O conjunto de treinamento ('training_dataset') é criado a partir de 'training_slice' e os primeiros 5600 rótulos de 'speech_label_int'.\n",
    "# Isso significa que cada elemento do 'training_dataset' contém um tensor de áudio do conjunto de treinamento e seu rótulo correspondente.\n",
    "training_dataset = tf.data.Dataset.from_tensor_slices((training_slice, speech_label_int[:5600]))\n",
    "validation_dataset = tf.data.Dataset.from_tensor_slices((validation_slice, speech_label_int[5600:5600+1200]))\n",
    "testing_dataset = tf.data.Dataset.from_tensor_slices((testing_slice, speech_label_int[-1200:]))"
   ]
  },
  {
   "cell_type": "code",
   "execution_count": null,
   "metadata": {},
   "outputs": [],
   "source": [
    "# Definindo o tamanho do lote (batch) para o conjunto de dados de treinamento e validação.\n",
    "batch_size = 10 # Cada lote contém 10 pares de áudio e rótulo.\n",
    "training_dataset = training_dataset.batch(batch_size)\n",
    "validation_dataset = validation_dataset.batch(batch_size)"
   ]
  },
  {
   "cell_type": "code",
   "execution_count": null,
   "metadata": {},
   "outputs": [],
   "source": [
    "#Criando o modelo\n",
    "num_labels = 10\n",
    "\n",
    "norm_layer = layers.Normalization()\n",
    "model = models.Sequential([\n",
    "                           layers.Input(shape=(20,32,1)),\n",
    "                           layers.Resizing(32,32),\n",
    "                           norm_layer,\n",
    "                           layers.Conv2D(32, 3, activation = 'relu'),\n",
    "                           layers.Conv2D(64, 3, activation='relu'),\n",
    "                           layers.MaxPooling2D(),\n",
    "                           layers.Dropout(0.25),\n",
    "                           layers.Flatten(),\n",
    "                           layers.Dense(128, activation = 'relu'),\n",
    "                           layers.Dropout(0.25),\n",
    "                           layers.Dense(num_labels), # logits\n",
    "])\n",
    "model.summary()"
   ]
  },
  {
   "cell_type": "code",
   "execution_count": null,
   "metadata": {},
   "outputs": [],
   "source": [
    "# Configurando o processo de compilação do modelo.\n",
    "# 'model.compile()' é usado para configurar o processo de aprendizado antes do treinamento.\n",
    "# Este método configura o otimizador, a função de perda e as métricas para monitorar.\n",
    "model.compile(optimizer = 'adam', loss=tf.keras.losses.SparseCategoricalCrossentropy(from_logits = True), metrics = ['accuracy'])"
   ]
  },
  {
   "cell_type": "code",
   "execution_count": null,
   "metadata": {},
   "outputs": [],
   "source": [
    "#Treinando o modelo\n",
    "\n",
    "EPOCHS = 10\n",
    "BATCH_SIZE = 64\n",
    "\n",
    "dir_model = \"D:/Dados/Material_complementar_reconhecimento_voz/mini_speech_commands/saved_models/\"\n",
    "\n",
    "checkpointer = (tf.keras.callbacks.EarlyStopping(verbose=1, patience=2),\n",
    "                tf.keras.callbacks.ModelCheckpoint(filepath=dir_model+'voice_command_recognition.keras',\n",
    "                                                   save_best_only=True))\n",
    "\n",
    "start = datetime.now()\n",
    "model_history = model.fit(training_dataset, validation_data=validation_dataset, batch_size=BATCH_SIZE,\n",
    "                          epochs=EPOCHS, callbacks=[checkpointer],\n",
    ")\n",
    "duration = datetime.now() - start\n",
    "print(\"Treinamento concluído em: \", duration)"
   ]
  },
  {
   "cell_type": "code",
   "execution_count": null,
   "metadata": {},
   "outputs": [],
   "source": [
    "#Avaliando o modelo\n",
    "\n",
    "# Preparando os dados de áudio e rótulos de teste para avaliação do modelo.\n",
    "test_audio_data = []\n",
    "test_label_data = []\n",
    "# Itera sobre cada par de áudio e rótulo no conjunto de dados de teste.\n",
    "for audio, label in testing_dataset:\n",
    "  test_audio_data.append(audio.numpy())\n",
    "  test_label_data.append(label.numpy())"
   ]
  },
  {
   "cell_type": "code",
   "execution_count": null,
   "metadata": {},
   "outputs": [],
   "source": [
    "# Convertendo as listas de dados de áudio e rótulos de teste para arrays NumPy.\n",
    "test_audio_data = np.array(test_audio_data)\n",
    "test_label_data = np.array(test_label_data)"
   ]
  },
  {
   "cell_type": "code",
   "execution_count": null,
   "metadata": {},
   "outputs": [],
   "source": [
    "# Estabelecendo as predições do modelo\n",
    "y_pred = np.argmax(model.predict(test_audio_data), axis = 1)\n",
    "y_true = test_label_data"
   ]
  },
  {
   "cell_type": "code",
   "execution_count": null,
   "metadata": {},
   "outputs": [],
   "source": [
    "print('Taxa de acerto: ', sum(y_pred == y_true) / len(y_true))"
   ]
  },
  {
   "cell_type": "code",
   "execution_count": null,
   "metadata": {},
   "outputs": [],
   "source": [
    "#Exbindo as métricas de precisão e perda do modelo\n",
    "\n",
    "metrics = model_history.history\n",
    "plt.plot(model_history.epoch, metrics['loss'], metrics['val_loss'])\n",
    "plt.title('model loss')\n",
    "plt.ylabel('loss')\n",
    "plt.xlabel('epoch')\n",
    "plt.legend(['train', 'test'], loc='upper left')\n",
    "plt.show()\n",
    "\n",
    "plt.plot(model_history.epoch, metrics['accuracy'], metrics['val_accuracy'])\n",
    "plt.title('model accuracy')\n",
    "plt.ylabel('accuracy')\n",
    "plt.xlabel('epoch')\n",
    "plt.legend(['train', 'test'], loc='upper left')\n",
    "plt.show()"
   ]
  },
  {
   "cell_type": "code",
   "execution_count": null,
   "metadata": {},
   "outputs": [],
   "source": [
    "#Exibindo a Matriz de confusão\n",
    "\n",
    "confusion_mtx = tf.math.confusion_matrix(y_true, y_pred)\n",
    "plt.figure(figsize=(10, 8))\n",
    "sns.heatmap(confusion_mtx, xticklabels=commands_dict, yticklabels=commands_dict, annot=True, fmt='g', cmap='Set1_r')\n",
    "plt.xlabel('Classes Previstas')\n",
    "plt.ylabel('Calsses Reais')\n",
    "plt.show()"
   ]
  }
 ],
 "metadata": {
  "kernelspec": {
   "display_name": "base",
   "language": "python",
   "name": "python3"
  },
  "language_info": {
   "codemirror_mode": {
    "name": "ipython",
    "version": 3
   },
   "file_extension": ".py",
   "mimetype": "text/x-python",
   "name": "python",
   "nbconvert_exporter": "python",
   "pygments_lexer": "ipython3",
   "version": "3.11.7"
  }
 },
 "nbformat": 4,
 "nbformat_minor": 2
}
