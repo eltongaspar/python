{
 "cells": [
  {
   "cell_type": "markdown",
   "metadata": {},
   "source": [
    "\n",
    "Reconhecimento de comandos de voz\n",
    "\n",
    "image-2.png\n",
    "\n",
    "Base de dados: Mini Speech Commands\n",
    "\n",
    "O conjunto de dados original consiste em mais de 105.000 arquivos de áudio no formato de arquivo de áudio WAV (Waveform) de pessoas dizendo 35 palavras diferentes. Mais detalhes sobre a base de dados podem ser vistos nestes link: speech_commands\n",
    "\n",
    "Para economizar tempo com o carregamento de dados, será usada uma versão menor do conjunto de dados de Comandos de Fala chamada mini_speech_commands que contém clipes de áudio curtos (um segundo ou menos) de 8 comandos: \"down\", \"go\", \"left\", \"no\", \"right\", \"stop\", \"up\" e \"yes\".\n",
    "\n",
    "A taxa de amostragem para este conjunto de dados é de 16kHz."
   ]
  },
  {
   "cell_type": "code",
   "execution_count": 26,
   "metadata": {},
   "outputs": [
    {
     "name": "stdout",
     "output_type": "stream",
     "text": [
      "Requirement already satisfied: librosa in d:\\anaconda\\lib\\site-packages (0.8.1)\n",
      "Collecting librosa\n",
      "  Using cached librosa-0.10.1-py3-none-any.whl.metadata (8.3 kB)\n",
      "Requirement already satisfied: audioread>=2.1.9 in d:\\anaconda\\lib\\site-packages (from librosa) (3.0.1)\n",
      "Requirement already satisfied: numpy!=1.22.0,!=1.22.1,!=1.22.2,>=1.20.3 in d:\\anaconda\\lib\\site-packages (from librosa) (1.26.4)\n",
      "Requirement already satisfied: scipy>=1.2.0 in d:\\anaconda\\lib\\site-packages (from librosa) (1.11.4)\n",
      "Requirement already satisfied: scikit-learn>=0.20.0 in d:\\anaconda\\lib\\site-packages (from librosa) (1.2.2)\n",
      "Requirement already satisfied: joblib>=0.14 in d:\\anaconda\\lib\\site-packages (from librosa) (1.2.0)\n",
      "Requirement already satisfied: decorator>=4.3.0 in d:\\anaconda\\lib\\site-packages (from librosa) (5.1.1)\n",
      "Requirement already satisfied: numba>=0.51.0 in d:\\anaconda\\lib\\site-packages (from librosa) (0.59.0)\n",
      "Requirement already satisfied: soundfile>=0.12.1 in d:\\anaconda\\lib\\site-packages (from librosa) (0.12.1)\n",
      "Requirement already satisfied: pooch>=1.0 in d:\\anaconda\\lib\\site-packages (from librosa) (1.8.1)\n",
      "Requirement already satisfied: soxr>=0.3.2 in d:\\anaconda\\lib\\site-packages (from librosa) (0.3.7)\n",
      "Requirement already satisfied: typing-extensions>=4.1.1 in d:\\anaconda\\lib\\site-packages (from librosa) (4.9.0)\n",
      "Requirement already satisfied: lazy-loader>=0.1 in d:\\anaconda\\lib\\site-packages (from librosa) (0.3)\n",
      "Requirement already satisfied: msgpack>=1.0 in d:\\anaconda\\lib\\site-packages (from librosa) (1.0.3)\n",
      "Requirement already satisfied: llvmlite<0.43,>=0.42.0dev0 in d:\\anaconda\\lib\\site-packages (from numba>=0.51.0->librosa) (0.42.0)\n",
      "Requirement already satisfied: platformdirs>=2.5.0 in d:\\anaconda\\lib\\site-packages (from pooch>=1.0->librosa) (3.10.0)\n",
      "Requirement already satisfied: packaging>=20.0 in d:\\anaconda\\lib\\site-packages (from pooch>=1.0->librosa) (23.1)\n",
      "Requirement already satisfied: requests>=2.19.0 in d:\\anaconda\\lib\\site-packages (from pooch>=1.0->librosa) (2.31.0)\n",
      "Requirement already satisfied: threadpoolctl>=2.0.0 in d:\\anaconda\\lib\\site-packages (from scikit-learn>=0.20.0->librosa) (2.2.0)\n",
      "Requirement already satisfied: cffi>=1.0 in d:\\anaconda\\lib\\site-packages (from soundfile>=0.12.1->librosa) (1.16.0)\n",
      "Requirement already satisfied: pycparser in d:\\anaconda\\lib\\site-packages (from cffi>=1.0->soundfile>=0.12.1->librosa) (2.21)\n",
      "Requirement already satisfied: charset-normalizer<4,>=2 in d:\\anaconda\\lib\\site-packages (from requests>=2.19.0->pooch>=1.0->librosa) (2.0.4)\n",
      "Requirement already satisfied: idna<4,>=2.5 in d:\\anaconda\\lib\\site-packages (from requests>=2.19.0->pooch>=1.0->librosa) (3.4)\n",
      "Requirement already satisfied: urllib3<3,>=1.21.1 in d:\\anaconda\\lib\\site-packages (from requests>=2.19.0->pooch>=1.0->librosa) (2.0.7)\n",
      "Requirement already satisfied: certifi>=2017.4.17 in d:\\anaconda\\lib\\site-packages (from requests>=2.19.0->pooch>=1.0->librosa) (2024.2.2)\n",
      "Using cached librosa-0.10.1-py3-none-any.whl (253 kB)\n",
      "Installing collected packages: librosa\n",
      "  Attempting uninstall: librosa\n",
      "    Found existing installation: librosa 0.8.1\n",
      "    Uninstalling librosa-0.8.1:\n",
      "      Successfully uninstalled librosa-0.8.1\n",
      "Successfully installed librosa-0.10.1\n",
      "Requirement already satisfied: numpy in d:\\anaconda\\lib\\site-packages (1.26.4)\n"
     ]
    }
   ],
   "source": [
    "#Importando as bibliotecas\n",
    "\n",
    "# Instala a versão específica 0.8.1 da biblioteca librosa.\n",
    "!pip install --upgrade librosa\n",
    "#==0.8.1\n",
    "!pip install --upgrade numpy\n",
    "\n",
    "# Verifica a versão do librosa\n",
    "#print(librosa.__version__)\n",
    "#librosa.__version__"
   ]
  },
  {
   "cell_type": "code",
   "execution_count": 27,
   "metadata": {},
   "outputs": [],
   "source": [
    "\n",
    "# Importação de bibliotecas e módulos necessários.\n",
    "import glob\n",
    "import os\n",
    "import pathlib\n",
    "import random\n",
    "from datetime import datetime\n",
    "import numpy as np\n",
    "import librosa\n",
    "import librosa.display as ld\n",
    "import pandas as pd\n",
    "import matplotlib.pyplot as plt\n",
    "from IPython.display import Audio\n",
    "import tensorflow as tf\n",
    "from tensorflow.keras import layers\n",
    "from tensorflow.keras import models\n",
    "import seaborn as sns\n",
    "sns.set()\n",
    "from tqdm import tqdm\n"
   ]
  },
  {
   "cell_type": "code",
   "execution_count": 6,
   "metadata": {},
   "outputs": [
    {
     "name": "stdout",
     "output_type": "stream",
     "text": [
      "O diretório existe.\n"
     ]
    }
   ],
   "source": [
    "import os\n",
    "\n",
    "dir_dataset = \"D:/Dados/material_complementar_reconhecimento_voz/mini_speech_commands/\"\n",
    "\n",
    "if os.path.exists(dir_dataset):\n",
    "    print(\"O diretório existe.\")\n",
    "else:\n",
    "    print(\"O diretório não existe.\")"
   ]
  },
  {
   "cell_type": "code",
   "execution_count": 7,
   "metadata": {},
   "outputs": [],
   "source": [
    "#Análise exploratória de dados (EDA)\n",
    "\n",
    "#Baixando e carregando o dataset Mini Speech Commands\n",
    "# Baixa e descompacta o dataset Mini Speech Commands.\n",
    "#!wget http://storage.googleapis.com/download.tensorflow.org/data/mini_speech_commands.zip -O mini_speech_commands.zip\n",
    "#!unzip mini_speech_commands.zip -d dir_files\n",
    "#!rm mini_speech_commands.zip\n",
    "\n",
    "\n",
    "##Comando para Vscode\n",
    "import os\n",
    "import urllib.request\n",
    "import zipfile\n",
    "\n",
    "# URL do arquivo zip\n",
    "url = \"http://storage.googleapis.com/download.tensorflow.org/data/mini_speech_commands.zip\"\n",
    "\n",
    "# Nome do arquivo zip\n",
    "zip_filename = \"mini_speech_commands.zip\"\n",
    "\n",
    "# Diretório de destino para extrair o arquivo zip\n",
    "extract_dir = \"D:/Dados/material_complementar_reconhecimento_voz/mini_speech_commands/\"\n",
    "\n",
    "# Baixar o arquivo zip\n",
    "urllib.request.urlretrieve(url, zip_filename)\n",
    "\n",
    "# Extrair o arquivo zip\n",
    "with zipfile.ZipFile(zip_filename, 'r') as zip_ref:\n",
    "    zip_ref.extractall(extract_dir)\n",
    "\n",
    "# Remover o arquivo zip após a extração\n",
    "os.remove(zip_filename)"
   ]
  },
  {
   "cell_type": "code",
   "execution_count": 37,
   "metadata": {},
   "outputs": [
    {
     "name": "stdout",
     "output_type": "stream",
     "text": [
      "down\n",
      "go\n",
      "left\n",
      "no\n",
      "README.md\n",
      "right\n",
      "stop\n",
      "up\n",
      "yes\n"
     ]
    }
   ],
   "source": [
    "# Cria uma lista dos comandos disponíveis no dataset.\n",
    "#Bibliotecas auxiliares\n",
    "import os\n",
    "import glob\n",
    "\n",
    "#Google Colab\n",
    "#commands = []\n",
    "#dir_comands = \"D:/Dados/Material_complementar_reconhecimento_voz/mini_speech_commands/mini_speech_commands/\"\n",
    "\n",
    "#for name in glob.glob(str(dir_comands) + '/*' + os.path.sep):\n",
    "#  print(name.split('/')[-2])\n",
    "#  commands.append(name.split('/')[-2])\n",
    "\n",
    "\n",
    "# VSCode Jupyter\n",
    "commands = []\n",
    "dir_commands = \"D:/Dados/Material_complementar_reconhecimento_voz/mini_speech_commands/mini_speech_commands\"\n",
    "\n",
    "for name in glob.glob(os.path.join(dir_commands, '*')):\n",
    "    print(os.path.basename(name))\n",
    "    commands.append(os.path.basename(name))"
   ]
  }
 ],
 "metadata": {
  "kernelspec": {
   "display_name": "base",
   "language": "python",
   "name": "python3"
  },
  "language_info": {
   "codemirror_mode": {
    "name": "ipython",
    "version": 3
   },
   "file_extension": ".py",
   "mimetype": "text/x-python",
   "name": "python",
   "nbconvert_exporter": "python",
   "pygments_lexer": "ipython3",
   "version": "3.11.7"
  }
 },
 "nbformat": 4,
 "nbformat_minor": 2
}
