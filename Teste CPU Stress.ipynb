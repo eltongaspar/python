{
 "cells": [
  {
   "cell_type": "code",
   "execution_count": 2,
   "metadata": {},
   "outputs": [
    {
     "name": "stdout",
     "output_type": "stream",
     "text": [
      "Estressando a CPU...\n",
      "Teste de CPU finalizado!\n"
     ]
    }
   ],
   "source": [
    "import multiprocessing\n",
    "import time\n",
    "\n",
    "# Função global que será usada pelos processos de CPU\n",
    "def cpu_task():\n",
    "    while True:\n",
    "        _ = 3.1415 * 2.7182  # Operação simples para manter a CPU ocupada\n",
    "\n",
    "def stress_cpu():\n",
    "    print(\"Estressando a CPU...\")\n",
    "    \n",
    "    processes = []\n",
    "    for _ in range(multiprocessing.cpu_count()):\n",
    "        p = multiprocessing.Process(target=cpu_task)\n",
    "        p.start()\n",
    "        processes.append(p)\n",
    "\n",
    "    time.sleep(10)  # Mantém o teste por 10 segundos\n",
    "    for p in processes:\n",
    "        p.terminate()\n",
    "    print(\"Teste de CPU finalizado!\")\n",
    "\n",
    "# Executar o teste de CPU\n",
    "stress_cpu()"
   ]
  },
  {
   "cell_type": "code",
   "execution_count": null,
   "metadata": {},
   "outputs": [
    {
     "name": "stdout",
     "output_type": "stream",
     "text": [
      "Estressando a memória RAM...\n"
     ]
    }
   ],
   "source": [
    "#Teste Memoria Ram\n",
    "import numpy as np\n",
    "\n",
    "def stress_ram():\n",
    "    print(\"Estressando a memória RAM...\")\n",
    "    arrays = []\n",
    "    try:\n",
    "        while True:\n",
    "            arrays.append(np.random.random((1000, 1000)))  # Aloca arrays de 1.000 x 1.000 até a memória acabar\n",
    "    except MemoryError:\n",
    "        print(\"Memória RAM esgotada!\")\n",
    "    print(\"Teste de RAM finalizado!\")\n",
    "\n",
    "# Executar o teste de RAM\n",
    "stress_ram()\n"
   ]
  },
  {
   "cell_type": "code",
   "execution_count": null,
   "metadata": {},
   "outputs": [],
   "source": [
    "#Tetes GPU\n",
    "import pycuda.autoinit\n",
    "import pycuda.driver as drv\n",
    "import numpy as np\n",
    "from pycuda.compiler import SourceModule\n",
    "\n",
    "def stress_gpu():\n",
    "    print(\"Estressando a GPU...\")\n",
    "    \n",
    "    mod = SourceModule(\"\"\"\n",
    "    __global__ void stress(float *a)\n",
    "    {\n",
    "        int idx = threadIdx.x + blockIdx.x * blockDim.x;\n",
    "        a[idx] = a[idx] * a[idx];\n",
    "    }\n",
    "    \"\"\")\n",
    "    \n",
    "    stress_kernel = mod.get_function(\"stress\")\n",
    "    \n",
    "    a = np.random.randn(4000000).astype(np.float32)\n",
    "    \n",
    "    for _ in range(100):\n",
    "        stress_kernel(drv.Out(a), block=(512,1,1), grid=(4000,1))\n",
    "    \n",
    "    print(\"Teste de GPU finalizado!\")\n",
    "\n",
    "# Executar o teste de GPU\n",
    "try:\n",
    "    stress_gpu()\n",
    "except ImportError:\n",
    "    print(\"PyCUDA não está instalada ou a GPU não é compatível.\")\n"
   ]
  },
  {
   "cell_type": "code",
   "execution_count": null,
   "metadata": {},
   "outputs": [],
   "source": [
    "#Testes Disco\n",
    "import os\n",
    "\n",
    "def stress_disk():\n",
    "    print(\"Estressando o disco (HD)...\")\n",
    "    file_path = \"teste_hd.tmp\"\n",
    "    try:\n",
    "        with open(file_path, \"wb\") as f:\n",
    "            for _ in range(1000):\n",
    "                f.write(os.urandom(1024 * 1024))  # Grava 1MB de dados aleatórios 1000 vezes\n",
    "        print(\"Teste de escrita finalizado!\")\n",
    "\n",
    "        with open(file_path, \"rb\") as f:\n",
    "            while f.read(1024 * 1024):\n",
    "                pass  # Leitura do arquivo criado\n",
    "        print(\"Teste de leitura finalizado!\")\n",
    "    finally:\n",
    "        if os.path.exists(file_path):\n",
    "            os.remove(file_path)  # Remove o arquivo temporário\n",
    "    print(\"Teste de disco finalizado!\")\n",
    "\n",
    "# Executar o teste de disco\n",
    "stress_disk()\n"
   ]
  }
 ],
 "metadata": {
  "kernelspec": {
   "display_name": "base",
   "language": "python",
   "name": "python3"
  },
  "language_info": {
   "codemirror_mode": {
    "name": "ipython",
    "version": 3
   },
   "file_extension": ".py",
   "mimetype": "text/x-python",
   "name": "python",
   "nbconvert_exporter": "python",
   "pygments_lexer": "ipython3",
   "version": "3.11.7"
  }
 },
 "nbformat": 4,
 "nbformat_minor": 2
}
