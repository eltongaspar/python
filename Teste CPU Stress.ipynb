{
 "cells": [
  {
   "cell_type": "code",
   "execution_count": 2,
   "metadata": {},
   "outputs": [
    {
     "name": "stdout",
     "output_type": "stream",
     "text": [
      "Estressando a CPU...\n",
      "Teste de CPU finalizado!\n"
     ]
    }
   ],
   "source": [
    "import multiprocessing\n",
    "import time\n",
    "\n",
    "# Função global que será usada pelos processos de CPU\n",
    "def cpu_task():\n",
    "    while True:\n",
    "        _ = 3.1415 * 2.7182  # Operação simples para manter a CPU ocupada\n",
    "\n",
    "def stress_cpu():\n",
    "    print(\"Estressando a CPU...\")\n",
    "    \n",
    "    processes = []\n",
    "    for _ in range(multiprocessing.cpu_count()):\n",
    "        p = multiprocessing.Process(target=cpu_task)\n",
    "        p.start()\n",
    "        processes.append(p)\n",
    "\n",
    "    time.sleep(10)  # Mantém o teste por 10 segundos\n",
    "    for p in processes:\n",
    "        p.terminate()\n",
    "    print(\"Teste de CPU finalizado!\")\n",
    "\n",
    "# Executar o teste de CPU\n",
    "stress_cpu()"
   ]
  },
  {
   "cell_type": "code",
   "execution_count": 3,
   "metadata": {},
   "outputs": [
    {
     "name": "stdout",
     "output_type": "stream",
     "text": [
      "Estressando a memória RAM...\n",
      "Memória RAM esgotada!\n",
      "Teste de RAM finalizado!\n"
     ]
    }
   ],
   "source": [
    "#Teste Memoria Ram\n",
    "import numpy as np\n",
    "\n",
    "def stress_ram():\n",
    "    print(\"Estressando a memória RAM...\")\n",
    "    arrays = []\n",
    "    try:\n",
    "        while True:\n",
    "            arrays.append(np.random.random((100, 100)))  # Aloca arrays de 1.000 x 1.000 até a memória acabar\n",
    "    except MemoryError:\n",
    "        print(\"Memória RAM esgotada!\")\n",
    "    print(\"Teste de RAM finalizado!\")\n",
    "\n",
    "# Executar o teste de RAM\n",
    "stress_ram()\n"
   ]
  },
  {
   "cell_type": "code",
   "execution_count": 15,
   "metadata": {},
   "outputs": [
    {
     "name": "stdout",
     "output_type": "stream",
     "text": [
      "Estressando a GPU (usando OpenCL)...\n",
      "Erro lógico no OpenCL: clGetPlatformIDs failed: PLATFORM_NOT_FOUND_KHR\n"
     ]
    }
   ],
   "source": [
    "import pyopencl as cl\n",
    "import numpy as np\n",
    "import time\n",
    "\n",
    "def stress_gpu_opencl():\n",
    "    print(\"Estressando a GPU (usando OpenCL)...\")\n",
    "\n",
    "    # Configurar o contexto e a fila de comando\n",
    "    platforms = cl.get_platforms()\n",
    "    devices = platforms[0].get_devices(cl.device_type.GPU)\n",
    "    context = cl.Context([devices[0]])\n",
    "    queue = cl.CommandQueue(context)\n",
    "\n",
    "    # Kernel simples para estressar a GPU\n",
    "    kernel_code = \"\"\"\n",
    "    __kernel void stress_gpu(__global float* a) {\n",
    "        int idx = get_global_id(0);\n",
    "        a[idx] = a[idx] * a[idx];\n",
    "    }\n",
    "    \"\"\"\n",
    "\n",
    "    # Compilar o kernel\n",
    "    program = cl.Program(context, kernel_code).build()\n",
    "\n",
    "    # Dados para o kernel\n",
    "    a = np.random.randn(1000000).astype(np.float32)  # Tamanho ajustado para 1 milhão de elementos\n",
    "    a_gpu = cl.Buffer(context, cl.mem_flags.READ_WRITE | cl.mem_flags.COPY_HOST_PTR, hostbuf=a)\n",
    "\n",
    "    # Executar o kernel várias vezes para estressar a GPU\n",
    "    for _ in range(100):\n",
    "        program.stress_gpu(queue, (len(a),), None, a_gpu)\n",
    "\n",
    "    # Sincronizar a execução\n",
    "    queue.finish()\n",
    "    print(\"Teste de GPU (OpenCL) finalizado!\")\n",
    "\n",
    "# Executar o teste de GPU com OpenCL\n",
    "try:\n",
    "    stress_gpu_opencl()\n",
    "except cl.RuntimeError as e:\n",
    "    print(f\"Erro no OpenCL: {e}\")\n",
    "except cl.LogicError as e:\n",
    "    print(f\"Erro lógico no OpenCL: {e}\")\n"
   ]
  },
  {
   "cell_type": "code",
   "execution_count": 5,
   "metadata": {},
   "outputs": [
    {
     "name": "stdout",
     "output_type": "stream",
     "text": [
      "Estressando o disco (HD)...\n",
      "Teste de escrita finalizado!\n",
      "Teste de leitura finalizado!\n",
      "Teste de disco finalizado!\n"
     ]
    }
   ],
   "source": [
    "#Testes Disco\n",
    "import os\n",
    "\n",
    "def stress_disk():\n",
    "    print(\"Estressando o disco (HD)...\")\n",
    "    file_path = \"teste_hd.tmp\"\n",
    "    try:\n",
    "        with open(file_path, \"wb\") as f:\n",
    "            for _ in range(1000):\n",
    "                f.write(os.urandom(1024 * 1024))  # Grava 1MB de dados aleatórios 1000 vezes\n",
    "        print(\"Teste de escrita finalizado!\")\n",
    "\n",
    "        with open(file_path, \"rb\") as f:\n",
    "            while f.read(1024 * 1024):\n",
    "                pass  # Leitura do arquivo criado\n",
    "        print(\"Teste de leitura finalizado!\")\n",
    "    finally:\n",
    "        if os.path.exists(file_path):\n",
    "            os.remove(file_path)  # Remove o arquivo temporário\n",
    "    print(\"Teste de disco finalizado!\")\n",
    "\n",
    "# Executar o teste de disco\n",
    "stress_disk()\n"
   ]
  }
 ],
 "metadata": {
  "kernelspec": {
   "display_name": "base",
   "language": "python",
   "name": "python3"
  },
  "language_info": {
   "codemirror_mode": {
    "name": "ipython",
    "version": 3
   },
   "file_extension": ".py",
   "mimetype": "text/x-python",
   "name": "python",
   "nbconvert_exporter": "python",
   "pygments_lexer": "ipython3",
   "version": "3.11.7"
  }
 },
 "nbformat": 4,
 "nbformat_minor": 2
}
