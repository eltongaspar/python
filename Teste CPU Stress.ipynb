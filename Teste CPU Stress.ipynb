{
 "cells": [
  {
   "cell_type": "code",
   "execution_count": null,
   "metadata": {},
   "outputs": [
    {
     "name": "stdout",
     "output_type": "stream",
     "text": [
      "Estressando a CPU...\n"
     ]
    }
   ],
   "source": [
    "import multiprocessing\n",
    "import time\n",
    "\n",
    "# Função global que será usada pelos processos de CPU\n",
    "def cpu_task():\n",
    "    while True:\n",
    "        _ = 3.1415 * 2.7182  # Operação simples para manter a CPU ocupada\n",
    "\n",
    "def stress_cpu():\n",
    "    print(\"Estressando a CPU...\")\n",
    "    \n",
    "    processes = []\n",
    "    for _ in range(multiprocessing.cpu_count()):  # Cria um processo por núcleo disponível\n",
    "        p = multiprocessing.Process(target=cpu_task)\n",
    "        p.start()\n",
    "        processes.append(p)\n",
    "\n",
    "    time.sleep(60)  # Mantém o teste por 20 segundos\n",
    "    for p in processes:\n",
    "        p.terminate()  # Encerra todos os processos após o teste\n",
    "    print(\"Teste de CPU finalizado!\")\n",
    "\n",
    "# Executar o teste de CPU\n",
    "stress_cpu()\n"
   ]
  },
  {
   "cell_type": "code",
   "execution_count": 1,
   "metadata": {},
   "outputs": [
    {
     "name": "stdout",
     "output_type": "stream",
     "text": [
      "Estressando a memória RAM...\n",
      "Memória RAM esgotada!\n",
      "Teste de RAM finalizado!\n"
     ]
    }
   ],
   "source": [
    "#Teste Memoria Ram\n",
    "import numpy as np\n",
    "\n",
    "def stress_ram():\n",
    "    print(\"Estressando a memória RAM...\")\n",
    "    arrays = []\n",
    "    try:\n",
    "        while True:\n",
    "            arrays.append(np.random.random((100, 100)))  # Aloca arrays de 1.000 x 1.000 até a memória acabar\n",
    "    except MemoryError:\n",
    "        print(\"Memória RAM esgotada!\")\n",
    "    print(\"Teste de RAM finalizado!\")\n",
    "\n",
    "# Executar o teste de RAM\n",
    "stress_ram()\n"
   ]
  },
  {
   "cell_type": "code",
   "execution_count": 14,
   "metadata": {},
   "outputs": [
    {
     "name": "stdout",
     "output_type": "stream",
     "text": [
      "Estressando o dispositivo (tentando GPU, fallback para CPU)...\n",
      "Erro geral no OpenCL: clGetPlatformIDs failed: PLATFORM_NOT_FOUND_KHR\n"
     ]
    }
   ],
   "source": [
    "#Testes GPU \n",
    "import pyopencl as cl\n",
    "import numpy as np\n",
    "import time\n",
    "\n",
    "def stress_opencl_cpu():\n",
    "    print(\"Estressando o dispositivo (tentando GPU, fallback para CPU)...\")\n",
    "    \n",
    "    # Tenta buscar plataformas OpenCL disponíveis\n",
    "    try:\n",
    "        platforms = cl.get_platforms()\n",
    "        if len(platforms) == 0:\n",
    "            raise RuntimeError(\"Nenhuma plataforma OpenCL disponível.\")\n",
    "\n",
    "        try:\n",
    "            # Tenta primeiro buscar uma GPU\n",
    "            devices = platforms[0].get_devices(cl.device_type.GPU)\n",
    "            if len(devices) == 0:\n",
    "                raise RuntimeError(\"Nenhum dispositivo de GPU disponível.\")\n",
    "            print(\"Dispositivo GPU encontrado!\")\n",
    "        except cl.RuntimeError:\n",
    "            # Se não houver GPU, usa CPU\n",
    "            devices = platforms[0].get_devices(cl.device_type.CPU)\n",
    "            if len(devices) == 0:\n",
    "                raise RuntimeError(\"Nenhum dispositivo de CPU disponível.\")\n",
    "            print(\"Dispositivo CPU encontrado! (fallback)\")\n",
    "\n",
    "        # Cria o contexto e a fila de comando\n",
    "        context = cl.Context([devices[0]])\n",
    "        queue = cl.CommandQueue(context)\n",
    "\n",
    "        # Kernel simples para estressar o dispositivo\n",
    "        kernel_code = \"\"\"\n",
    "        __kernel void stress_device(__global float* a) {\n",
    "            int idx = get_global_id(0);\n",
    "            a[idx] = a[idx] * a[idx];\n",
    "        }\n",
    "        \"\"\"\n",
    "\n",
    "        # Compilar o kernel\n",
    "        program = cl.Program(context, kernel_code).build()\n",
    "\n",
    "        # Dados para o kernel\n",
    "        a = np.random.randn(100000).astype(np.float32)  # Tamanho ajustado para 100 mil elementos\n",
    "        a_device = cl.Buffer(context, cl.mem_flags.READ_WRITE | cl.mem_flags.COPY_HOST_PTR, hostbuf=a)\n",
    "\n",
    "        # Executa o kernel várias vezes para estressar o dispositivo\n",
    "        for _ in range(100):\n",
    "            program.stress_device(queue, (len(a),), None, a_device)\n",
    "\n",
    "        # Sincronizar a execução\n",
    "        queue.finish()\n",
    "        print(\"Teste de OpenCL finalizado com sucesso!\")\n",
    "\n",
    "    except cl.RuntimeError as e:\n",
    "        print(f\"Erro no OpenCL: {e}\")\n",
    "    except Exception as e:\n",
    "        print(f\"Erro geral no OpenCL: {e}\")\n",
    "\n",
    "# Executar o teste de OpenCL com fallback para CPU\n",
    "try:\n",
    "    stress_opencl_cpu()\n",
    "except Exception as e:\n",
    "    print(f\"Erro ao executar o teste: {e}\")\n"
   ]
  },
  {
   "cell_type": "code",
   "execution_count": 3,
   "metadata": {},
   "outputs": [
    {
     "name": "stdout",
     "output_type": "stream",
     "text": [
      "Estressando o disco (HD)...\n",
      "Teste de escrita finalizado!\n",
      "Teste de leitura finalizado!\n",
      "Teste de disco finalizado!\n"
     ]
    }
   ],
   "source": [
    "#Testes Disco\n",
    "import os\n",
    "\n",
    "def stress_disk():\n",
    "    print(\"Estressando o disco (HD)...\")\n",
    "    file_path = \"teste_hd.tmp\"\n",
    "    try:\n",
    "        with open(file_path, \"wb\") as f:\n",
    "            for _ in range(1000):\n",
    "                f.write(os.urandom(1024 * 1024))  # Grava 1MB de dados aleatórios 1000 vezes\n",
    "        print(\"Teste de escrita finalizado!\")\n",
    "\n",
    "        with open(file_path, \"rb\") as f:\n",
    "            while f.read(1024 * 1024):\n",
    "                pass  # Leitura do arquivo criado\n",
    "        print(\"Teste de leitura finalizado!\")\n",
    "    finally:\n",
    "        if os.path.exists(file_path):\n",
    "            os.remove(file_path)  # Remove o arquivo temporário\n",
    "    print(\"Teste de disco finalizado!\")\n",
    "\n",
    "# Executar o teste de disco\n",
    "stress_disk()\n"
   ]
  }
 ],
 "metadata": {
  "kernelspec": {
   "display_name": "base",
   "language": "python",
   "name": "python3"
  },
  "language_info": {
   "codemirror_mode": {
    "name": "ipython",
    "version": 3
   },
   "file_extension": ".py",
   "mimetype": "text/x-python",
   "name": "python",
   "nbconvert_exporter": "python",
   "pygments_lexer": "ipython3",
   "version": "3.11.7"
  }
 },
 "nbformat": 4,
 "nbformat_minor": 2
}
