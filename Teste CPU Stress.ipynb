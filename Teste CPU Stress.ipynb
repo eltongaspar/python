{
 "cells": [
  {
   "cell_type": "code",
   "execution_count": 2,
   "metadata": {},
   "outputs": [
    {
     "name": "stdout",
     "output_type": "stream",
     "text": [
      "Estressando a CPU...\n",
      "Teste de CPU finalizado!\n"
     ]
    }
   ],
   "source": [
    "import multiprocessing\n",
    "import time\n",
    "\n",
    "# Função global que será usada pelos processos de CPU\n",
    "def cpu_task():\n",
    "    while True:\n",
    "        _ = 3.1415 * 2.7182  # Operação simples para manter a CPU ocupada\n",
    "\n",
    "def stress_cpu():\n",
    "    print(\"Estressando a CPU...\")\n",
    "    \n",
    "    processes = []\n",
    "    for _ in range(multiprocessing.cpu_count()):\n",
    "        p = multiprocessing.Process(target=cpu_task)\n",
    "        p.start()\n",
    "        processes.append(p)\n",
    "\n",
    "    time.sleep(10)  # Mantém o teste por 10 segundos\n",
    "    for p in processes:\n",
    "        p.terminate()\n",
    "    print(\"Teste de CPU finalizado!\")\n",
    "\n",
    "# Executar o teste de CPU\n",
    "stress_cpu()"
   ]
  },
  {
   "cell_type": "code",
   "execution_count": 3,
   "metadata": {},
   "outputs": [
    {
     "name": "stdout",
     "output_type": "stream",
     "text": [
      "Estressando a memória RAM...\n",
      "Memória RAM esgotada!\n",
      "Teste de RAM finalizado!\n"
     ]
    }
   ],
   "source": [
    "#Teste Memoria Ram\n",
    "import numpy as np\n",
    "\n",
    "def stress_ram():\n",
    "    print(\"Estressando a memória RAM...\")\n",
    "    arrays = []\n",
    "    try:\n",
    "        while True:\n",
    "            arrays.append(np.random.random((100, 100)))  # Aloca arrays de 1.000 x 1.000 até a memória acabar\n",
    "    except MemoryError:\n",
    "        print(\"Memória RAM esgotada!\")\n",
    "    print(\"Teste de RAM finalizado!\")\n",
    "\n",
    "# Executar o teste de RAM\n",
    "stress_ram()\n"
   ]
  },
  {
   "cell_type": "code",
   "execution_count": 10,
   "metadata": {},
   "outputs": [
    {
     "name": "stderr",
     "output_type": "stream",
     "text": [
      "c:\\Users\\elton\\anaconda3\\Lib\\site-packages\\pytools\\persistent_dict.py:63: RecommendedHashNotFoundWarning: Unable to import recommended hash 'siphash24.siphash13', falling back to 'hashlib.sha256'. Run 'python3 -m pip install siphash24' to install the recommended hash.\n",
      "  warn(\"Unable to import recommended hash 'siphash24.siphash13', \"\n"
     ]
    },
    {
     "name": "stdout",
     "output_type": "stream",
     "text": [
      "Estressando a GPU (usando OpenCL)...\n"
     ]
    },
    {
     "ename": "LogicError",
     "evalue": "clGetPlatformIDs failed: PLATFORM_NOT_FOUND_KHR",
     "output_type": "error",
     "traceback": [
      "\u001b[1;31m---------------------------------------------------------------------------\u001b[0m",
      "\u001b[1;31mLogicError\u001b[0m                                Traceback (most recent call last)",
      "Cell \u001b[1;32mIn[10], line 39\u001b[0m\n\u001b[0;32m     36\u001b[0m     \u001b[38;5;28mprint\u001b[39m(\u001b[38;5;124m\"\u001b[39m\u001b[38;5;124mTeste de GPU (OpenCL) finalizado!\u001b[39m\u001b[38;5;124m\"\u001b[39m)\n\u001b[0;32m     38\u001b[0m \u001b[38;5;66;03m# Executar o teste de GPU com OpenCL\u001b[39;00m\n\u001b[1;32m---> 39\u001b[0m stress_gpu_opencl()\n",
      "Cell \u001b[1;32mIn[10], line 10\u001b[0m, in \u001b[0;36mstress_gpu_opencl\u001b[1;34m()\u001b[0m\n\u001b[0;32m      7\u001b[0m \u001b[38;5;28mprint\u001b[39m(\u001b[38;5;124m\"\u001b[39m\u001b[38;5;124mEstressando a GPU (usando OpenCL)...\u001b[39m\u001b[38;5;124m\"\u001b[39m)\n\u001b[0;32m      9\u001b[0m \u001b[38;5;66;03m# Configurar o contexto e a fila de comando\u001b[39;00m\n\u001b[1;32m---> 10\u001b[0m platforms \u001b[38;5;241m=\u001b[39m cl\u001b[38;5;241m.\u001b[39mget_platforms()\n\u001b[0;32m     11\u001b[0m devices \u001b[38;5;241m=\u001b[39m platforms[\u001b[38;5;241m0\u001b[39m]\u001b[38;5;241m.\u001b[39mget_devices(cl\u001b[38;5;241m.\u001b[39mdevice_type\u001b[38;5;241m.\u001b[39mGPU)\n\u001b[0;32m     12\u001b[0m context \u001b[38;5;241m=\u001b[39m cl\u001b[38;5;241m.\u001b[39mContext([devices[\u001b[38;5;241m0\u001b[39m]])\n",
      "\u001b[1;31mLogicError\u001b[0m: clGetPlatformIDs failed: PLATFORM_NOT_FOUND_KHR"
     ]
    }
   ],
   "source": [
    "#Tetes GPU\n",
    "import pyopencl as cl\n",
    "import numpy as np\n",
    "import time\n",
    "\n",
    "def stress_gpu_opencl():\n",
    "    print(\"Estressando a GPU (usando OpenCL)...\")\n",
    "\n",
    "    # Configurar o contexto e a fila de comando\n",
    "    platforms = cl.get_platforms()\n",
    "    devices = platforms[0].get_devices(cl.device_type.GPU)\n",
    "    context = cl.Context([devices[0]])\n",
    "    queue = cl.CommandQueue(context)\n",
    "\n",
    "    # Kernel simples para estressar a GPU\n",
    "    kernel_code = \"\"\"\n",
    "    __kernel void stress_gpu(__global float* a) {\n",
    "        int idx = get_global_id(0);\n",
    "        a[idx] = a[idx] * a[idx];\n",
    "    }\n",
    "    \"\"\"\n",
    "\n",
    "    # Compilar o kernel\n",
    "    program = cl.Program(context, kernel_code).build()\n",
    "\n",
    "    # Dados para o kernel\n",
    "    a = np.random.randn(4000000).astype(np.float32)\n",
    "    a_gpu = cl.Buffer(context, cl.mem_flags.READ_WRITE | cl.mem_flags.COPY_HOST_PTR, hostbuf=a)\n",
    "\n",
    "    # Executar o kernel várias vezes para estressar a GPU\n",
    "    for _ in range(100):\n",
    "        program.stress_gpu(queue, a.shape, None, a_gpu)\n",
    "\n",
    "    # Sincronizar a execução\n",
    "    queue.finish()\n",
    "    print(\"Teste de GPU (OpenCL) finalizado!\")\n",
    "\n",
    "# Executar o teste de GPU com OpenCL\n",
    "stress_gpu_opencl()\n"
   ]
  },
  {
   "cell_type": "code",
   "execution_count": 12,
   "metadata": {},
   "outputs": [
    {
     "name": "stdout",
     "output_type": "stream",
     "text": [
      "Estressando a GPU (usando OpenCL)...\n",
      "Erro lógico no OpenCL: clGetPlatformIDs failed: PLATFORM_NOT_FOUND_KHR\n"
     ]
    }
   ],
   "source": [
    "import pyopencl as cl\n",
    "import numpy as np\n",
    "import time\n",
    "\n",
    "def stress_gpu_opencl():\n",
    "    print(\"Estressando a GPU (usando OpenCL)...\")\n",
    "\n",
    "    # Configurar o contexto e a fila de comando\n",
    "    platforms = cl.get_platforms()\n",
    "    devices = platforms[0].get_devices(cl.device_type.GPU)\n",
    "    context = cl.Context([devices[0]])\n",
    "    queue = cl.CommandQueue(context)\n",
    "\n",
    "    # Kernel simples para estressar a GPU\n",
    "    kernel_code = \"\"\"\n",
    "    __kernel void stress_gpu(__global float* a) {\n",
    "        int idx = get_global_id(0);\n",
    "        a[idx] = a[idx] * a[idx];\n",
    "    }\n",
    "    \"\"\"\n",
    "\n",
    "    # Compilar o kernel\n",
    "    program = cl.Program(context, kernel_code).build()\n",
    "\n",
    "    # Dados para o kernel\n",
    "    a = np.random.randn(1000000).astype(np.float32)  # Tamanho ajustado para 1 milhão de elementos\n",
    "    a_gpu = cl.Buffer(context, cl.mem_flags.READ_WRITE | cl.mem_flags.COPY_HOST_PTR, hostbuf=a)\n",
    "\n",
    "    # Executar o kernel várias vezes para estressar a GPU\n",
    "    for _ in range(100):\n",
    "        program.stress_gpu(queue, (len(a),), None, a_gpu)\n",
    "\n",
    "    # Sincronizar a execução\n",
    "    queue.finish()\n",
    "    print(\"Teste de GPU (OpenCL) finalizado!\")\n",
    "\n",
    "# Executar o teste de GPU com OpenCL\n",
    "try:\n",
    "    stress_gpu_opencl()\n",
    "except cl.RuntimeError as e:\n",
    "    print(f\"Erro no OpenCL: {e}\")\n",
    "except cl.LogicError as e:\n",
    "    print(f\"Erro lógico no OpenCL: {e}\")\n"
   ]
  },
  {
   "cell_type": "code",
   "execution_count": 5,
   "metadata": {},
   "outputs": [
    {
     "name": "stdout",
     "output_type": "stream",
     "text": [
      "Estressando o disco (HD)...\n",
      "Teste de escrita finalizado!\n",
      "Teste de leitura finalizado!\n",
      "Teste de disco finalizado!\n"
     ]
    }
   ],
   "source": [
    "#Testes Disco\n",
    "import os\n",
    "\n",
    "def stress_disk():\n",
    "    print(\"Estressando o disco (HD)...\")\n",
    "    file_path = \"teste_hd.tmp\"\n",
    "    try:\n",
    "        with open(file_path, \"wb\") as f:\n",
    "            for _ in range(1000):\n",
    "                f.write(os.urandom(1024 * 1024))  # Grava 1MB de dados aleatórios 1000 vezes\n",
    "        print(\"Teste de escrita finalizado!\")\n",
    "\n",
    "        with open(file_path, \"rb\") as f:\n",
    "            while f.read(1024 * 1024):\n",
    "                pass  # Leitura do arquivo criado\n",
    "        print(\"Teste de leitura finalizado!\")\n",
    "    finally:\n",
    "        if os.path.exists(file_path):\n",
    "            os.remove(file_path)  # Remove o arquivo temporário\n",
    "    print(\"Teste de disco finalizado!\")\n",
    "\n",
    "# Executar o teste de disco\n",
    "stress_disk()\n"
   ]
  }
 ],
 "metadata": {
  "kernelspec": {
   "display_name": "base",
   "language": "python",
   "name": "python3"
  },
  "language_info": {
   "codemirror_mode": {
    "name": "ipython",
    "version": 3
   },
   "file_extension": ".py",
   "mimetype": "text/x-python",
   "name": "python",
   "nbconvert_exporter": "python",
   "pygments_lexer": "ipython3",
   "version": "3.11.7"
  }
 },
 "nbformat": 4,
 "nbformat_minor": 2
}
